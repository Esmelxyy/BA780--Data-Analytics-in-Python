{
 "cells": [
  {
   "cell_type": "markdown",
   "id": "ce872ec7",
   "metadata": {},
   "source": [
    "### Part I: Pricing Analysis\n",
    "### Optimal pricing for weekend vs. weekday"
   ]
  },
  {
   "cell_type": "markdown",
   "id": "1a4f469e",
   "metadata": {},
   "source": [
    "1) Estimate the demand d(p) by regressing on price and weekend. Interpret the regression results. Provide an interpretation in your own words!"
   ]
  },
  {
   "cell_type": "code",
   "execution_count": 16,
   "id": "0b2eb204",
   "metadata": {},
   "outputs": [
    {
     "data": {
      "text/plain": [
       "weekend\n",
       "0    5.913043\n",
       "1    6.888889\n",
       "Name: demand, dtype: float64"
      ]
     },
     "execution_count": 16,
     "metadata": {},
     "output_type": "execute_result"
    }
   ],
   "source": [
    "import pandas as pd\n",
    "df_demand = pd.read_csv(\"demand_data.csv\")\n",
    "df_demand\n",
    "df_demand.groupby('weekend').demand.mean()"
   ]
  },
  {
   "cell_type": "code",
   "execution_count": 17,
   "id": "3944be57",
   "metadata": {},
   "outputs": [
    {
     "data": {
      "text/html": [
       "<table class=\"simpletable\">\n",
       "<caption>OLS Regression Results</caption>\n",
       "<tr>\n",
       "  <th>Dep. Variable:</th>         <td>demand</td>      <th>  R-squared:         </th> <td>   0.881</td>\n",
       "</tr>\n",
       "<tr>\n",
       "  <th>Model:</th>                   <td>OLS</td>       <th>  Adj. R-squared:    </th> <td>   0.873</td>\n",
       "</tr>\n",
       "<tr>\n",
       "  <th>Method:</th>             <td>Least Squares</td>  <th>  F-statistic:       </th> <td>   107.1</td>\n",
       "</tr>\n",
       "<tr>\n",
       "  <th>Date:</th>             <td>Sun, 30 Apr 2023</td> <th>  Prob (F-statistic):</th> <td>4.07e-14</td>\n",
       "</tr>\n",
       "<tr>\n",
       "  <th>Time:</th>                 <td>20:11:34</td>     <th>  Log-Likelihood:    </th> <td> -27.363</td>\n",
       "</tr>\n",
       "<tr>\n",
       "  <th>No. Observations:</th>      <td>    32</td>      <th>  AIC:               </th> <td>   60.73</td>\n",
       "</tr>\n",
       "<tr>\n",
       "  <th>Df Residuals:</th>          <td>    29</td>      <th>  BIC:               </th> <td>   65.12</td>\n",
       "</tr>\n",
       "<tr>\n",
       "  <th>Df Model:</th>              <td>     2</td>      <th>                     </th>     <td> </td>   \n",
       "</tr>\n",
       "<tr>\n",
       "  <th>Covariance Type:</th>      <td>nonrobust</td>    <th>                     </th>     <td> </td>   \n",
       "</tr>\n",
       "</table>\n",
       "<table class=\"simpletable\">\n",
       "<tr>\n",
       "            <td></td>              <th>coef</th>     <th>std err</th>      <th>t</th>      <th>P>|t|</th>  <th>[0.025</th>    <th>0.975]</th>  \n",
       "</tr>\n",
       "<tr>\n",
       "  <th>Intercept</th>            <td>    9.9293</td> <td>    0.312</td> <td>   31.808</td> <td> 0.000</td> <td>    9.291</td> <td>   10.568</td>\n",
       "</tr>\n",
       "<tr>\n",
       "  <th>weekend == 1[T.True]</th> <td>    0.4198</td> <td>    0.238</td> <td>    1.762</td> <td> 0.089</td> <td>   -0.068</td> <td>    0.907</td>\n",
       "</tr>\n",
       "<tr>\n",
       "  <th>price</th>                <td>   -0.8772</td> <td>    0.063</td> <td>  -14.033</td> <td> 0.000</td> <td>   -1.005</td> <td>   -0.749</td>\n",
       "</tr>\n",
       "</table>\n",
       "<table class=\"simpletable\">\n",
       "<tr>\n",
       "  <th>Omnibus:</th>       <td> 4.720</td> <th>  Durbin-Watson:     </th> <td>   2.107</td>\n",
       "</tr>\n",
       "<tr>\n",
       "  <th>Prob(Omnibus):</th> <td> 0.094</td> <th>  Jarque-Bera (JB):  </th> <td>   3.505</td>\n",
       "</tr>\n",
       "<tr>\n",
       "  <th>Skew:</th>          <td> 0.797</td> <th>  Prob(JB):          </th> <td>   0.173</td>\n",
       "</tr>\n",
       "<tr>\n",
       "  <th>Kurtosis:</th>      <td> 3.297</td> <th>  Cond. No.          </th> <td>    15.4</td>\n",
       "</tr>\n",
       "</table><br/><br/>Notes:<br/>[1] Standard Errors assume that the covariance matrix of the errors is correctly specified."
      ],
      "text/plain": [
       "<class 'statsmodels.iolib.summary.Summary'>\n",
       "\"\"\"\n",
       "                            OLS Regression Results                            \n",
       "==============================================================================\n",
       "Dep. Variable:                 demand   R-squared:                       0.881\n",
       "Model:                            OLS   Adj. R-squared:                  0.873\n",
       "Method:                 Least Squares   F-statistic:                     107.1\n",
       "Date:                Sun, 30 Apr 2023   Prob (F-statistic):           4.07e-14\n",
       "Time:                        20:11:34   Log-Likelihood:                -27.363\n",
       "No. Observations:                  32   AIC:                             60.73\n",
       "Df Residuals:                      29   BIC:                             65.12\n",
       "Df Model:                           2                                         \n",
       "Covariance Type:            nonrobust                                         \n",
       "========================================================================================\n",
       "                           coef    std err          t      P>|t|      [0.025      0.975]\n",
       "----------------------------------------------------------------------------------------\n",
       "Intercept                9.9293      0.312     31.808      0.000       9.291      10.568\n",
       "weekend == 1[T.True]     0.4198      0.238      1.762      0.089      -0.068       0.907\n",
       "price                   -0.8772      0.063    -14.033      0.000      -1.005      -0.749\n",
       "==============================================================================\n",
       "Omnibus:                        4.720   Durbin-Watson:                   2.107\n",
       "Prob(Omnibus):                  0.094   Jarque-Bera (JB):                3.505\n",
       "Skew:                           0.797   Prob(JB):                        0.173\n",
       "Kurtosis:                       3.297   Cond. No.                         15.4\n",
       "==============================================================================\n",
       "\n",
       "Notes:\n",
       "[1] Standard Errors assume that the covariance matrix of the errors is correctly specified.\n",
       "\"\"\""
      ]
     },
     "execution_count": 17,
     "metadata": {},
     "output_type": "execute_result"
    }
   ],
   "source": [
    "import statsmodels.formula.api as smf\n",
    "import numpy as np\n",
    "weekend_fit = smf.ols(formula='demand ~ price + (weekend == 1)', data=df_demand).fit()\n",
    "weekend_fit.summary()"
   ]
  },
  {
   "cell_type": "markdown",
   "id": "9efd96ea",
   "metadata": {},
   "source": [
    "#### Answer: According to regression table shows above, the coefficient of price is negative which means this is make sense. Because everytime we increase the price for one unit, the demand will go down for 0.8772 units. The coefficient of weekend is 0.4198 which means if we record demand on weekend, the relationship between demand and if this recording on weekend.\n",
    "    "
   ]
  },
  {
   "cell_type": "markdown",
   "id": "5a709b59",
   "metadata": {},
   "source": [
    "Calculate the optimal weekday price p* (when w = 1) and its corresponding profit \n",
    "\n",
    "Clearly state your findings, do not simply show output of running code\n",
    "\n",
    "Determine whether the optimal weekday price is within the credible range and\n",
    "provide response in your own words!"
   ]
  },
  {
   "cell_type": "code",
   "execution_count": 18,
   "id": "d4943cb3",
   "metadata": {},
   "outputs": [
    {
     "data": {
      "text/plain": [
       "weekend\n",
       "0    5.913043\n",
       "1    6.888889\n",
       "Name: demand, dtype: float64"
      ]
     },
     "execution_count": 18,
     "metadata": {},
     "output_type": "execute_result"
    }
   ],
   "source": [
    "import pandas as pd\n",
    "df_demand = pd.read_csv(\"demand_data.csv\")\n",
    "df_demand\n",
    "df_demand.groupby('weekend').demand.mean()"
   ]
  },
  {
   "cell_type": "code",
   "execution_count": 40,
   "id": "37042a04",
   "metadata": {},
   "outputs": [
    {
     "data": {
      "text/plain": [
       "Intercept               9.929305\n",
       "weekend == 1[T.True]    0.419832\n",
       "price                  -0.877246\n",
       "dtype: float64"
      ]
     },
     "execution_count": 40,
     "metadata": {},
     "output_type": "execute_result"
    }
   ],
   "source": [
    "weekend_fit.params"
   ]
  },
  {
   "cell_type": "code",
   "execution_count": 20,
   "id": "7434c490",
   "metadata": {},
   "outputs": [],
   "source": [
    "pi = lambda x: -(weekend_fit.params[0] + weekend_fit.params[1]*1 + weekend_fit.params[2]*x ) * (x-4)"
   ]
  },
  {
   "cell_type": "code",
   "execution_count": 21,
   "id": "b300e632",
   "metadata": {},
   "outputs": [
    {
     "data": {
      "text/plain": [
       "     fun: -13.33368361942117\n",
       "    nfev: 10\n",
       "     nit: 4\n",
       " success: True\n",
       "       x: 7.898650699949416"
      ]
     },
     "execution_count": 21,
     "metadata": {},
     "output_type": "execute_result"
    }
   ],
   "source": [
    "from scipy.optimize import minimize_scalar\n",
    "#optimal_price = \n",
    "minimize_scalar(pi, method='brent')\n",
    "#print(optimal_price)\n"
   ]
  },
  {
   "cell_type": "code",
   "execution_count": 41,
   "id": "4f335177",
   "metadata": {},
   "outputs": [
    {
     "data": {
      "text/plain": [
       "1.5"
      ]
     },
     "execution_count": 41,
     "metadata": {},
     "output_type": "execute_result"
    }
   ],
   "source": [
    "df_demand.price.min()"
   ]
  },
  {
   "cell_type": "code",
   "execution_count": 42,
   "id": "21330df5",
   "metadata": {},
   "outputs": [
    {
     "data": {
      "text/plain": [
       "7.5"
      ]
     },
     "execution_count": 42,
     "metadata": {},
     "output_type": "execute_result"
    }
   ],
   "source": [
    "df_demand.price.max()"
   ]
  },
  {
   "cell_type": "markdown",
   "id": "1d7622ff",
   "metadata": {},
   "source": [
    "#### Answer: the optimal weekend price p is 7.89 when w = 1. The optimal weekday price is not within the credible range, since our range is between 1.5 and 7.5. Price(12.85 > max range 7.5). The optimal profit is 13.333 dollars."
   ]
  },
  {
   "cell_type": "markdown",
   "id": "e500597b",
   "metadata": {},
   "source": [
    "Calculate the optimal weekend price p* (when w = 0) and its corresponding profit\n",
    "\n",
    "o Clearly state your findings, do not simply show output of running code\n",
    "\n",
    "o Determine whether the optimal weekend price is within the credible range and\n",
    "provide response in your own words!"
   ]
  },
  {
   "cell_type": "code",
   "execution_count": 24,
   "id": "885d047c",
   "metadata": {},
   "outputs": [
    {
     "data": {
      "text/plain": [
       "Intercept               9.929305\n",
       "weekend == 1[T.True]    0.419832\n",
       "price                  -0.877246\n",
       "dtype: float64"
      ]
     },
     "execution_count": 24,
     "metadata": {},
     "output_type": "execute_result"
    }
   ],
   "source": [
    "#demand_fit = smf.ols(formula='demand ~ price + (weekend == 1)', data=df_demand).fit()\n",
    "#demand_fit.summary()\n",
    "#demand_fit.params"
   ]
  },
  {
   "cell_type": "code",
   "execution_count": 43,
   "id": "57c5ec12",
   "metadata": {},
   "outputs": [],
   "source": [
    "pi2 = lambda x: -(weekend_fit.params[0] + weekend_fit.params[1]*0 + weekend_fit.params[2]*x ) * (x-4)"
   ]
  },
  {
   "cell_type": "code",
   "execution_count": 44,
   "id": "f1003b16",
   "metadata": {},
   "outputs": [
    {
     "data": {
      "text/plain": [
       "     fun: -11.747134712211084\n",
       "    nfev: 10\n",
       "     nit: 4\n",
       " success: True\n",
       "       x: 7.659360769101051"
      ]
     },
     "execution_count": 44,
     "metadata": {},
     "output_type": "execute_result"
    }
   ],
   "source": [
    "from scipy.optimize import minimize_scalar\n",
    "#optimal_price is x\n",
    "minimize_scalar(pi2, method='brent')"
   ]
  },
  {
   "cell_type": "code",
   "execution_count": 45,
   "id": "15f7ac1a",
   "metadata": {},
   "outputs": [
    {
     "data": {
      "text/plain": [
       "1.5"
      ]
     },
     "execution_count": 45,
     "metadata": {},
     "output_type": "execute_result"
    }
   ],
   "source": [
    "df_demand.price.min()"
   ]
  },
  {
   "cell_type": "code",
   "execution_count": 46,
   "id": "a84bf258",
   "metadata": {},
   "outputs": [
    {
     "data": {
      "text/plain": [
       "7.5"
      ]
     },
     "execution_count": 46,
     "metadata": {},
     "output_type": "execute_result"
    }
   ],
   "source": [
    "df_demand.price.max()"
   ]
  },
  {
   "cell_type": "markdown",
   "id": "2b4a2c4e",
   "metadata": {},
   "source": [
    "#### Answer: the optimal price p is 7.65 when w = 0. The optimal weekday price is not within the credible range, since our range is between 1.5 and 7.5. Price(12.85 > max range 7.5). The optimal profit is 11.747."
   ]
  },
  {
   "cell_type": "markdown",
   "id": "6e55784c",
   "metadata": {},
   "source": [
    "### Part II: Pricing Analysis New vs Refurbished Product"
   ]
  },
  {
   "cell_type": "code",
   "execution_count": 52,
   "id": "e0540f0b",
   "metadata": {},
   "outputs": [
    {
     "name": "stdout",
     "output_type": "stream",
     "text": [
      "<class 'pandas.core.frame.DataFrame'>\n",
      "RangeIndex: 500 entries, 0 to 499\n",
      "Data columns (total 4 columns):\n",
      " #   Column        Non-Null Count  Dtype         \n",
      "---  ------        --------------  -----         \n",
      " 0   dates         500 non-null    datetime64[ns]\n",
      " 1   new_price     500 non-null    float64       \n",
      " 2   refurb_price  500 non-null    float64       \n",
      " 3   choice        500 non-null    object        \n",
      "dtypes: datetime64[ns](1), float64(2), object(1)\n",
      "memory usage: 15.8+ KB\n"
     ]
    },
    {
     "data": {
      "text/html": [
       "<div>\n",
       "<style scoped>\n",
       "    .dataframe tbody tr th:only-of-type {\n",
       "        vertical-align: middle;\n",
       "    }\n",
       "\n",
       "    .dataframe tbody tr th {\n",
       "        vertical-align: top;\n",
       "    }\n",
       "\n",
       "    .dataframe thead th {\n",
       "        text-align: right;\n",
       "    }\n",
       "</style>\n",
       "<table border=\"1\" class=\"dataframe\">\n",
       "  <thead>\n",
       "    <tr style=\"text-align: right;\">\n",
       "      <th></th>\n",
       "      <th>dates</th>\n",
       "      <th>new_price</th>\n",
       "      <th>refurb_price</th>\n",
       "      <th>choice</th>\n",
       "    </tr>\n",
       "  </thead>\n",
       "  <tbody>\n",
       "    <tr>\n",
       "      <th>0</th>\n",
       "      <td>2014-06-01</td>\n",
       "      <td>400.0</td>\n",
       "      <td>264.0</td>\n",
       "      <td>refurb</td>\n",
       "    </tr>\n",
       "    <tr>\n",
       "      <th>1</th>\n",
       "      <td>2014-06-01</td>\n",
       "      <td>400.0</td>\n",
       "      <td>264.0</td>\n",
       "      <td>refurb</td>\n",
       "    </tr>\n",
       "    <tr>\n",
       "      <th>2</th>\n",
       "      <td>2014-06-01</td>\n",
       "      <td>400.0</td>\n",
       "      <td>264.0</td>\n",
       "      <td>refurb</td>\n",
       "    </tr>\n",
       "    <tr>\n",
       "      <th>3</th>\n",
       "      <td>2014-06-01</td>\n",
       "      <td>400.0</td>\n",
       "      <td>264.0</td>\n",
       "      <td>new</td>\n",
       "    </tr>\n",
       "    <tr>\n",
       "      <th>4</th>\n",
       "      <td>2014-06-01</td>\n",
       "      <td>400.0</td>\n",
       "      <td>264.0</td>\n",
       "      <td>new</td>\n",
       "    </tr>\n",
       "    <tr>\n",
       "      <th>5</th>\n",
       "      <td>2014-06-01</td>\n",
       "      <td>400.0</td>\n",
       "      <td>264.0</td>\n",
       "      <td>refurb</td>\n",
       "    </tr>\n",
       "    <tr>\n",
       "      <th>6</th>\n",
       "      <td>2014-06-01</td>\n",
       "      <td>400.0</td>\n",
       "      <td>264.0</td>\n",
       "      <td>refurb</td>\n",
       "    </tr>\n",
       "    <tr>\n",
       "      <th>7</th>\n",
       "      <td>2014-06-01</td>\n",
       "      <td>400.0</td>\n",
       "      <td>264.0</td>\n",
       "      <td>new</td>\n",
       "    </tr>\n",
       "    <tr>\n",
       "      <th>8</th>\n",
       "      <td>2014-06-01</td>\n",
       "      <td>400.0</td>\n",
       "      <td>264.0</td>\n",
       "      <td>new</td>\n",
       "    </tr>\n",
       "    <tr>\n",
       "      <th>9</th>\n",
       "      <td>2014-06-01</td>\n",
       "      <td>400.0</td>\n",
       "      <td>264.0</td>\n",
       "      <td>refurb</td>\n",
       "    </tr>\n",
       "  </tbody>\n",
       "</table>\n",
       "</div>"
      ],
      "text/plain": [
       "       dates  new_price  refurb_price  choice\n",
       "0 2014-06-01      400.0         264.0  refurb\n",
       "1 2014-06-01      400.0         264.0  refurb\n",
       "2 2014-06-01      400.0         264.0  refurb\n",
       "3 2014-06-01      400.0         264.0     new\n",
       "4 2014-06-01      400.0         264.0     new\n",
       "5 2014-06-01      400.0         264.0  refurb\n",
       "6 2014-06-01      400.0         264.0  refurb\n",
       "7 2014-06-01      400.0         264.0     new\n",
       "8 2014-06-01      400.0         264.0     new\n",
       "9 2014-06-01      400.0         264.0  refurb"
      ]
     },
     "execution_count": 52,
     "metadata": {},
     "output_type": "execute_result"
    }
   ],
   "source": [
    "df_refurb = pd.read_csv('refurb_data.csv')\n",
    "df_refurb['dates'] = pd.to_datetime(df_refurb['dates'])\n",
    "df_refurb['new_price'] = df_refurb['new_price'].astype(\"float\")\n",
    "df_refurb['refurb_price'] = df_refurb['refurb_price'].astype(\"float\")\n",
    "df_refurb.info()\n",
    "df_refurb.head(10)"
   ]
  },
  {
   "cell_type": "code",
   "execution_count": 88,
   "id": "2a9ca250",
   "metadata": {},
   "outputs": [
    {
     "data": {
      "text/html": [
       "<div>\n",
       "<style scoped>\n",
       "    .dataframe tbody tr th:only-of-type {\n",
       "        vertical-align: middle;\n",
       "    }\n",
       "\n",
       "    .dataframe tbody tr th {\n",
       "        vertical-align: top;\n",
       "    }\n",
       "\n",
       "    .dataframe thead th {\n",
       "        text-align: right;\n",
       "    }\n",
       "</style>\n",
       "<table border=\"1\" class=\"dataframe\">\n",
       "  <thead>\n",
       "    <tr style=\"text-align: right;\">\n",
       "      <th></th>\n",
       "      <th>dates</th>\n",
       "      <th>new_price</th>\n",
       "      <th>refurb_price</th>\n",
       "      <th>refurb_count</th>\n",
       "    </tr>\n",
       "  </thead>\n",
       "  <tbody>\n",
       "    <tr>\n",
       "      <th>0</th>\n",
       "      <td>2014-06-01</td>\n",
       "      <td>400.0</td>\n",
       "      <td>264.0</td>\n",
       "      <td>9</td>\n",
       "    </tr>\n",
       "    <tr>\n",
       "      <th>1</th>\n",
       "      <td>2014-06-02</td>\n",
       "      <td>400.0</td>\n",
       "      <td>305.0</td>\n",
       "      <td>3</td>\n",
       "    </tr>\n",
       "    <tr>\n",
       "      <th>2</th>\n",
       "      <td>2014-06-03</td>\n",
       "      <td>400.0</td>\n",
       "      <td>306.0</td>\n",
       "      <td>6</td>\n",
       "    </tr>\n",
       "    <tr>\n",
       "      <th>3</th>\n",
       "      <td>2014-06-04</td>\n",
       "      <td>400.0</td>\n",
       "      <td>283.0</td>\n",
       "      <td>7</td>\n",
       "    </tr>\n",
       "    <tr>\n",
       "      <th>4</th>\n",
       "      <td>2014-06-05</td>\n",
       "      <td>400.0</td>\n",
       "      <td>305.0</td>\n",
       "      <td>8</td>\n",
       "    </tr>\n",
       "  </tbody>\n",
       "</table>\n",
       "</div>"
      ],
      "text/plain": [
       "       dates  new_price  refurb_price  refurb_count\n",
       "0 2014-06-01      400.0         264.0             9\n",
       "1 2014-06-02      400.0         305.0             3\n",
       "2 2014-06-03      400.0         306.0             6\n",
       "3 2014-06-04      400.0         283.0             7\n",
       "4 2014-06-05      400.0         305.0             8"
      ]
     },
     "execution_count": 88,
     "metadata": {},
     "output_type": "execute_result"
    }
   ],
   "source": [
    "df_re = df_refurb[df_refurb['choice'] == 'refurb']\n",
    "df_re = df_re.groupby('dates').agg({'new_price': 'mean','refurb_price': 'mean', 'choice': 'count'}).reset_index()\n",
    "df_re.columns = ['dates', 'new_price', 'refurb_price', 'refurb_count']\n",
    "\n",
    "df_re.head(5)"
   ]
  },
  {
   "cell_type": "code",
   "execution_count": 90,
   "id": "a86bb73b",
   "metadata": {},
   "outputs": [
    {
     "data": {
      "text/plain": [
       "Intercept      -0.701876\n",
       "refurb_price   -0.044835\n",
       "new_price       0.050579\n",
       "dtype: float64"
      ]
     },
     "execution_count": 90,
     "metadata": {},
     "output_type": "execute_result"
    }
   ],
   "source": [
    "import statsmodels.formula.api as smf\n",
    "demand_reg = smf.ols(formula='refurb_count~ refurb_price + new_price ', data=df_re).fit()\n",
    "demand_reg.summary()\n",
    "demand_reg.params"
   ]
  },
  {
   "cell_type": "code",
   "execution_count": 91,
   "id": "acf86088",
   "metadata": {},
   "outputs": [
    {
     "data": {
      "text/plain": [
       "     fun: -334.6266140552393\n",
       "    nfev: 11\n",
       "     nit: 4\n",
       " success: True\n",
       "       x: 236.39203136098254"
      ]
     },
     "execution_count": 91,
     "metadata": {},
     "output_type": "execute_result"
    }
   ],
   "source": [
    "pi_300 = lambda x: -(demand_reg.params[0] + demand_reg.params[1]*x + demand_reg.params[2]*300 ) * (x-150)\n",
    "from scipy.optimize import minimize_scalar\n",
    "#optimal_price is x\n",
    "minimize_scalar(pi_300, method='brent')"
   ]
  },
  {
   "cell_type": "code",
   "execution_count": 95,
   "id": "a8603d7f",
   "metadata": {},
   "outputs": [
    {
     "data": {
      "text/plain": [
       "     fun: -588.7710949351235\n",
       "    nfev: 11\n",
       "     nit: 4\n",
       " success: True\n",
       "       x: 264.59526853520975"
      ]
     },
     "execution_count": 95,
     "metadata": {},
     "output_type": "execute_result"
    }
   ],
   "source": [
    "pi_350 = lambda x: -(demand_reg.params[0] + demand_reg.params[1]*x + demand_reg.params[2]*350 ) * (x-150)\n",
    "from scipy.optimize import minimize_scalar\n",
    "#optimal_price is x\n",
    "minimize_scalar(pi_350, method='brent')"
   ]
  },
  {
   "cell_type": "code",
   "execution_count": 93,
   "id": "8879d970",
   "metadata": {},
   "outputs": [
    {
     "data": {
      "text/plain": [
       "     fun: -914.2404513119158\n",
       "    nfev: 11\n",
       "     nit: 4\n",
       " success: True\n",
       "       x: 292.7985057094416"
      ]
     },
     "execution_count": 93,
     "metadata": {},
     "output_type": "execute_result"
    }
   ],
   "source": [
    "pi_400 = lambda x: -(demand_reg.params[0] + demand_reg.params[1]*x + demand_reg.params[2]*400 ) * (x-150)\n",
    "from scipy.optimize import minimize_scalar\n",
    "#optimal_price is x\n",
    "minimize_scalar(pi_400, method='brent')"
   ]
  },
  {
   "cell_type": "markdown",
   "id": "ed1a7a30",
   "metadata": {},
   "source": [
    "### Answer: As shown above, the higher the new price, the higher the refurb price. When we have new price at 300, our refurb price is 236.392; When we have new price at 350, our refurb price is 264.595; When we have new price at 400, our refurb price is 292.799.\n",
    "### For optimal profit, the higher the new price, the higher the optimal profit. When we have new price at 300, our max profit is 334.626; When we have new price at 350, our max profit is 588.77; When we have new price at 400, our max profit is 914.24."
   ]
  },
  {
   "cell_type": "markdown",
   "id": "0ab457af",
   "metadata": {},
   "source": [
    "## Part III: Pricing Analysis\n",
    "## Two-Segment Pricing"
   ]
  },
  {
   "cell_type": "markdown",
   "id": "b1b63c68",
   "metadata": {},
   "source": [
    "First, find the optimal price* when only offering one price→i.e., with no segmentation"
   ]
  },
  {
   "cell_type": "code",
   "execution_count": 35,
   "id": "84e4b578",
   "metadata": {},
   "outputs": [
    {
     "data": {
      "text/plain": [
       "3000.0"
      ]
     },
     "execution_count": 35,
     "metadata": {},
     "output_type": "execute_result"
    }
   ],
   "source": [
    "#Optimal price calcualtion with cost = $5\n",
    "#max  = (10000 - 800p) *(p - 5)\n",
    "#p(optimal price) = 8.75\n",
    "# if offer one price\n",
    "D = 10000 - 800 * 8.75\n",
    "D\n",
    "# Optimal profit is 11250"
   ]
  },
  {
   "cell_type": "markdown",
   "id": "23058546",
   "metadata": {},
   "source": [
    "### Answer:  when only offering one price the optimal price is $8.75"
   ]
  },
  {
   "cell_type": "markdown",
   "id": "1a470451",
   "metadata": {},
   "source": [
    "Report the optimal prices p* for segment 1 and segment 2"
   ]
  },
  {
   "cell_type": "code",
   "execution_count": 36,
   "id": "9198f8e3",
   "metadata": {},
   "outputs": [
    {
     "name": "stdout",
     "output_type": "stream",
     "text": [
      "The low segment size is: 5600.000000000001\n",
      "The high segment size is: 4400.0\n"
     ]
    }
   ],
   "source": [
    "# Discussion with WTP < 7 & WTP > 7\n",
    "#low segment size: \n",
    "Low_segment_size = (7/12.5)*10000\n",
    "Low_segment_size\n",
    "print(\"The low segment size is:\", Low_segment_size)\n",
    "High_segment_size = (12.5 - 7) / 12.5 *10000\n",
    "print(\"The high segment size is:\", High_segment_size)"
   ]
  },
  {
   "cell_type": "code",
   "execution_count": 37,
   "id": "fcc8251b",
   "metadata": {},
   "outputs": [
    {
     "name": "stdout",
     "output_type": "stream",
     "text": [
      "optimal price for low(WTP<7) segement is $6\n",
      "optimal price for high(WTP>7) segement is $8.75\n"
     ]
    }
   ],
   "source": [
    "#Optimal price for the low demand\n",
    "#low_segment = (5600 -800p)*(p-5) [Deriative this formula]\n",
    "# price for low segement is $6\n",
    "print('optimal price for low(WTP<7) segement is $6')\n",
    "#high_segment = (4400 -800p)*(p-5) [Deriative this formula]\n",
    "#We charge the optimal price when offering one uniqe price for high_segment\n",
    "print('optimal price for high(WTP>7) segement is $8.75')\n"
   ]
  },
  {
   "cell_type": "code",
   "execution_count": 98,
   "id": "2e0c60fd",
   "metadata": {},
   "outputs": [
    {
     "name": "stdout",
     "output_type": "stream",
     "text": [
      "The profit for high segment customer is $11250.00\n",
      "The profit for low segment customer is $800.00\n",
      "The profit for no segmentation case is $11250.00\n"
     ]
    }
   ],
   "source": [
    "# Profit for segment #1\n",
    "price = 8.75\n",
    "demand = 3000\n",
    "cost = 5\n",
    "profit = price*demand - demand*cost\n",
    "profit\n",
    "print('The profit for high segment customer is ${:.2f}'.format(profit))\n",
    "# Profit for segment #2\n",
    "price_seg2 = 6\n",
    "demand_seg2 = 800\n",
    "cost = 5\n",
    "profit_seg2 = price_seg2*demand_seg2 - demand_seg2*cost\n",
    "profit_seg2\n",
    "print('The profit for low segment customer is ${:.2f}'.format(profit1))\n",
    "print('The profit for no segmentation case is $11250.00')"
   ]
  },
  {
   "cell_type": "code",
   "execution_count": 99,
   "id": "803988b2",
   "metadata": {},
   "outputs": [
    {
     "name": "stdout",
     "output_type": "stream",
     "text": [
      "Different in profit in percentage is 7.11%\n",
      "Different in profit in percentage is $800\n"
     ]
    }
   ],
   "source": [
    "# Different in profit\n",
    "diff = (profit + profit_seg2 - 11250) / profit *100\n",
    "print('Different in profit in percentage is {:.2f}%'. format(diff))\n",
    "print('Different in profit in percentage is $800')"
   ]
  },
  {
   "cell_type": "code",
   "execution_count": null,
   "id": "68873738",
   "metadata": {},
   "outputs": [],
   "source": [
    "import matplotlib.pyplot as plt\n",
    "import seaborn as sns\n",
    "sns.scatterplot(x = \"price\", y = \"sales\", data = df, color = \"blue\",hue=\"country\")"
   ]
  },
  {
   "cell_type": "code",
   "execution_count": null,
   "id": "26b26edc",
   "metadata": {},
   "outputs": [],
   "source": [
    "import statsmodels.formula.api as smf\n",
    "import statsmodels.api as sm\n",
    "country_dummy = pd.get_dummies(df[\"country\"], prefix=\"country\")\n",
    "inventory_level_dummy = pd.get_dummies(df[\"inventory_level\"], prefix=\"inventory_level\")\n",
    "\n",
    "\n",
    "# combine dummy variables and other variables\n",
    "X = pd.concat([df[[\"price\"]], country_dummy, inventory_level_dummy], axis=1)\n",
    "X = sm.add_constant(X)\n",
    "\n",
    "# fit the model and print summary\n",
    "model = sm.OLS(df[\"sales\"], X).fit()\n",
    "print(model.summary())"
   ]
  },
  {
   "cell_type": "code",
   "execution_count": null,
   "id": "039a5445",
   "metadata": {},
   "outputs": [],
   "source": [
    "params.reset_index()"
   ]
  },
  {
   "cell_type": "code",
   "execution_count": null,
   "id": "5155bca6",
   "metadata": {},
   "outputs": [],
   "source": [
    "#China at Optimal inventory level\n",
    "from scipy.optimize import minimize_scalar\n",
    "pi = lambda x: -(model.params[0] + model.params[1]*x + model.params[5]*1 + model.params[11]*1) * (x-0.6)\n",
    "optimal_price_China = minimize_scalar(pi, method='brent')\n",
    "print(optimal_price_China)\n",
    "\n",
    "df_France = df.loc[df['country'] == 'France']\n",
    "\n",
    "print(f'(Min) {df.price.min()}', ' < ', round(optimal_price_China.x,2), ' < ', f'{df.price.max()} (Max)')\n",
    "df.price.min() < optimal_price_China.x < df.price.max()\n",
    "optimal_p = 60 *2.149 - 60*0.6\n",
    "optimal_p"
   ]
  },
  {
   "cell_type": "code",
   "execution_count": null,
   "id": "63a1dbd0",
   "metadata": {},
   "outputs": [],
   "source": []
  }
 ],
 "metadata": {
  "kernelspec": {
   "display_name": "Python 3 (ipykernel)",
   "language": "python",
   "name": "python3"
  },
  "language_info": {
   "codemirror_mode": {
    "name": "ipython",
    "version": 3
   },
   "file_extension": ".py",
   "mimetype": "text/x-python",
   "name": "python",
   "nbconvert_exporter": "python",
   "pygments_lexer": "ipython3",
   "version": "3.9.12"
  }
 },
 "nbformat": 4,
 "nbformat_minor": 5
}
