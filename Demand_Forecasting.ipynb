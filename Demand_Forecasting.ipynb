{
 "cells": [
  {
   "cell_type": "markdown",
   "id": "0794c5a3",
   "metadata": {},
   "source": [
    "# Part I: Stationary Series"
   ]
  },
  {
   "cell_type": "markdown",
   "id": "5631e291",
   "metadata": {},
   "source": [
    "## a. MA Estimations"
   ]
  },
  {
   "cell_type": "code",
   "execution_count": 2,
   "id": "33ce86f6",
   "metadata": {},
   "outputs": [],
   "source": [
    "import pandas as pd\n",
    "import statsmodels.formula.api as smf\n",
    "import statsmodels.api as sm\n",
    "import numpy as np\n",
    "dfjeans = pd.read_excel(\"jeans_data.xlsx\")"
   ]
  },
  {
   "cell_type": "code",
   "execution_count": 3,
   "id": "32383f9e",
   "metadata": {},
   "outputs": [
    {
     "data": {
      "text/html": [
       "<table class=\"simpletable\">\n",
       "<caption>OLS Regression Results</caption>\n",
       "<tr>\n",
       "  <th>Dep. Variable:</th>          <td>sales</td>      <th>  R-squared:         </th> <td>   0.963</td>\n",
       "</tr>\n",
       "<tr>\n",
       "  <th>Model:</th>                   <td>OLS</td>       <th>  Adj. R-squared:    </th> <td>   0.959</td>\n",
       "</tr>\n",
       "<tr>\n",
       "  <th>Method:</th>             <td>Least Squares</td>  <th>  F-statistic:       </th> <td>   295.4</td>\n",
       "</tr>\n",
       "<tr>\n",
       "  <th>Date:</th>             <td>Tue, 04 Apr 2023</td> <th>  Prob (F-statistic):</th> <td>3.96e-17</td>\n",
       "</tr>\n",
       "<tr>\n",
       "  <th>Time:</th>                 <td>19:55:15</td>     <th>  Log-Likelihood:    </th> <td> -102.28</td>\n",
       "</tr>\n",
       "<tr>\n",
       "  <th>No. Observations:</th>      <td>    26</td>      <th>  AIC:               </th> <td>   210.6</td>\n",
       "</tr>\n",
       "<tr>\n",
       "  <th>Df Residuals:</th>          <td>    23</td>      <th>  BIC:               </th> <td>   214.3</td>\n",
       "</tr>\n",
       "<tr>\n",
       "  <th>Df Model:</th>              <td>     2</td>      <th>                     </th>     <td> </td>   \n",
       "</tr>\n",
       "<tr>\n",
       "  <th>Covariance Type:</th>      <td>nonrobust</td>    <th>                     </th>     <td> </td>   \n",
       "</tr>\n",
       "</table>\n",
       "<table class=\"simpletable\">\n",
       "<tr>\n",
       "        <td></td>          <th>coef</th>     <th>std err</th>      <th>t</th>      <th>P>|t|</th>  <th>[0.025</th>    <th>0.975]</th>  \n",
       "</tr>\n",
       "<tr>\n",
       "  <th>Intercept</th>    <td>  509.0259</td> <td>   43.675</td> <td>   11.655</td> <td> 0.000</td> <td>  418.677</td> <td>  599.375</td>\n",
       "</tr>\n",
       "<tr>\n",
       "  <th>price</th>        <td>   -3.3287</td> <td>    0.329</td> <td>  -10.123</td> <td> 0.000</td> <td>   -4.009</td> <td>   -2.648</td>\n",
       "</tr>\n",
       "<tr>\n",
       "  <th>se_indicator</th> <td>   76.2267</td> <td>   10.781</td> <td>    7.071</td> <td> 0.000</td> <td>   53.925</td> <td>   98.528</td>\n",
       "</tr>\n",
       "</table>\n",
       "<table class=\"simpletable\">\n",
       "<tr>\n",
       "  <th>Omnibus:</th>       <td> 1.399</td> <th>  Durbin-Watson:     </th> <td>   1.189</td>\n",
       "</tr>\n",
       "<tr>\n",
       "  <th>Prob(Omnibus):</th> <td> 0.497</td> <th>  Jarque-Bera (JB):  </th> <td>   1.214</td>\n",
       "</tr>\n",
       "<tr>\n",
       "  <th>Skew:</th>          <td> 0.367</td> <th>  Prob(JB):          </th> <td>   0.545</td>\n",
       "</tr>\n",
       "<tr>\n",
       "  <th>Kurtosis:</th>      <td> 2.237</td> <th>  Cond. No.          </th> <td>2.23e+03</td>\n",
       "</tr>\n",
       "</table><br/><br/>Notes:<br/>[1] Standard Errors assume that the covariance matrix of the errors is correctly specified.<br/>[2] The condition number is large, 2.23e+03. This might indicate that there are<br/>strong multicollinearity or other numerical problems."
      ],
      "text/plain": [
       "<class 'statsmodels.iolib.summary.Summary'>\n",
       "\"\"\"\n",
       "                            OLS Regression Results                            \n",
       "==============================================================================\n",
       "Dep. Variable:                  sales   R-squared:                       0.963\n",
       "Model:                            OLS   Adj. R-squared:                  0.959\n",
       "Method:                 Least Squares   F-statistic:                     295.4\n",
       "Date:                Tue, 04 Apr 2023   Prob (F-statistic):           3.96e-17\n",
       "Time:                        19:55:15   Log-Likelihood:                -102.28\n",
       "No. Observations:                  26   AIC:                             210.6\n",
       "Df Residuals:                      23   BIC:                             214.3\n",
       "Df Model:                           2                                         \n",
       "Covariance Type:            nonrobust                                         \n",
       "================================================================================\n",
       "                   coef    std err          t      P>|t|      [0.025      0.975]\n",
       "--------------------------------------------------------------------------------\n",
       "Intercept      509.0259     43.675     11.655      0.000     418.677     599.375\n",
       "price           -3.3287      0.329    -10.123      0.000      -4.009      -2.648\n",
       "se_indicator    76.2267     10.781      7.071      0.000      53.925      98.528\n",
       "==============================================================================\n",
       "Omnibus:                        1.399   Durbin-Watson:                   1.189\n",
       "Prob(Omnibus):                  0.497   Jarque-Bera (JB):                1.214\n",
       "Skew:                           0.367   Prob(JB):                        0.545\n",
       "Kurtosis:                       2.237   Cond. No.                     2.23e+03\n",
       "==============================================================================\n",
       "\n",
       "Notes:\n",
       "[1] Standard Errors assume that the covariance matrix of the errors is correctly specified.\n",
       "[2] The condition number is large, 2.23e+03. This might indicate that there are\n",
       "strong multicollinearity or other numerical problems.\n",
       "\"\"\""
      ]
     },
     "execution_count": 3,
     "metadata": {},
     "output_type": "execute_result"
    }
   ],
   "source": [
    "# fit the OLS model\n",
    "jeans_model = smf.ols(formula='sales ~ price + se_indicator', data=dfjeans).fit()\n",
    "# results summary\n",
    "jeans_model.summary()"
   ]
  },
  {
   "cell_type": "code",
   "execution_count": 4,
   "id": "5e694fe4",
   "metadata": {},
   "outputs": [],
   "source": [
    "#Residual\n",
    "dataframe_convert= pd.DataFrame({\"price\": dfjeans['price'], 'se_indicator':dfjeans['se_indicator']})\n",
    "sales_pred = jeans_model.predict(dataframe_convert)\n",
    "resi=dfjeans['sales'] - sales_pred\n",
    "dfjeans['resi']= resi\n"
   ]
  },
  {
   "cell_type": "code",
   "execution_count": 21,
   "id": "c7775a6a",
   "metadata": {},
   "outputs": [
    {
     "data": {
      "text/plain": [
       "143.23644837736413"
      ]
     },
     "execution_count": 21,
     "metadata": {},
     "output_type": "execute_result"
    }
   ],
   "source": [
    "from sklearn.metrics import mean_squared_error\n",
    "mean_squared_error(dfjeans.resi[5:], \n",
    "                   dfjeans[\"resi\"].rolling(3).mean()[4:25])\n"
   ]
  },
  {
   "cell_type": "code",
   "execution_count": 22,
   "id": "96c51cba",
   "metadata": {},
   "outputs": [
    {
     "name": "stdout",
     "output_type": "stream",
     "text": [
      "[1, 211.46384738356565]\n",
      "[2, 145.56118432869349]\n",
      "[3, 143.23644837736413]\n",
      "[4, 143.33110071107606]\n",
      "[5, 170.26800425131165]\n"
     ]
    }
   ],
   "source": [
    "for index in range(1,6):\n",
    "    print([index,mean_squared_error(dfjeans.resi[5:], \n",
    "                                    dfjeans[\"resi\"].rolling(index).mean()[4:25])])\n",
    "    "
   ]
  },
  {
   "cell_type": "markdown",
   "id": "68547f2b",
   "metadata": {},
   "source": [
    "#### According to the result shows, MA(3) has the smallest MSE which is 143.23644837736413"
   ]
  },
  {
   "cell_type": "markdown",
   "id": "447d39e4",
   "metadata": {},
   "source": [
    "## b. ES Estimations"
   ]
  },
  {
   "cell_type": "code",
   "execution_count": 23,
   "id": "ec29a530",
   "metadata": {},
   "outputs": [
    {
     "name": "stdout",
     "output_type": "stream",
     "text": [
      "Requirement already satisfied: statsmodels in /Users/esmelxy/opt/anaconda3/lib/python3.9/site-packages (0.13.5)\n",
      "Requirement already satisfied: scipy>=1.3 in /Users/esmelxy/opt/anaconda3/lib/python3.9/site-packages (from statsmodels) (1.7.3)\n",
      "Requirement already satisfied: numpy>=1.17 in /Users/esmelxy/opt/anaconda3/lib/python3.9/site-packages (from statsmodels) (1.22.4)\n",
      "Requirement already satisfied: patsy>=0.5.2 in /Users/esmelxy/opt/anaconda3/lib/python3.9/site-packages (from statsmodels) (0.5.2)\n",
      "Requirement already satisfied: pandas>=0.25 in /Users/esmelxy/opt/anaconda3/lib/python3.9/site-packages (from statsmodels) (1.4.2)\n",
      "Requirement already satisfied: packaging>=21.3 in /Users/esmelxy/opt/anaconda3/lib/python3.9/site-packages (from statsmodels) (21.3)\n",
      "Requirement already satisfied: pyparsing!=3.0.5,>=2.0.2 in /Users/esmelxy/opt/anaconda3/lib/python3.9/site-packages (from packaging>=21.3->statsmodels) (3.0.4)\n",
      "Requirement already satisfied: python-dateutil>=2.8.1 in /Users/esmelxy/opt/anaconda3/lib/python3.9/site-packages (from pandas>=0.25->statsmodels) (2.8.2)\n",
      "Requirement already satisfied: pytz>=2020.1 in /Users/esmelxy/opt/anaconda3/lib/python3.9/site-packages (from pandas>=0.25->statsmodels) (2021.3)\n",
      "Requirement already satisfied: six in /Users/esmelxy/opt/anaconda3/lib/python3.9/site-packages (from patsy>=0.5.2->statsmodels) (1.16.0)\n",
      "\n",
      "\u001b[1m[\u001b[0m\u001b[34;49mnotice\u001b[0m\u001b[1;39;49m]\u001b[0m\u001b[39;49m A new release of pip available: \u001b[0m\u001b[31;49m22.3.1\u001b[0m\u001b[39;49m -> \u001b[0m\u001b[32;49m23.0.1\u001b[0m\n",
      "\u001b[1m[\u001b[0m\u001b[34;49mnotice\u001b[0m\u001b[1;39;49m]\u001b[0m\u001b[39;49m To update, run: \u001b[0m\u001b[32;49mpip install --upgrade pip\u001b[0m\n",
      "Collecting statsmodels==0.12.0\n",
      "  Using cached statsmodels-0.12.0.tar.gz (17.5 MB)\n",
      "  Installing build dependencies ... \u001b[?25lerror\n",
      "  \u001b[1;31merror\u001b[0m: \u001b[1msubprocess-exited-with-error\u001b[0m\n",
      "  \n",
      "  \u001b[31m×\u001b[0m \u001b[32mpip subprocess to install build dependencies\u001b[0m did not run successfully.\n",
      "  \u001b[31m│\u001b[0m exit code: \u001b[1;36m1\u001b[0m\n",
      "  \u001b[31m╰─>\u001b[0m \u001b[31m[339 lines of output]\u001b[0m\n",
      "  \u001b[31m   \u001b[0m Ignoring numpy: markers 'python_version == \"3.6\"' don't match your environment\n",
      "  \u001b[31m   \u001b[0m Ignoring numpy: markers 'python_version == \"3.7\"' don't match your environment\n",
      "  \u001b[31m   \u001b[0m Collecting setuptools\n",
      "  \u001b[31m   \u001b[0m   Using cached setuptools-67.6.1-py3-none-any.whl (1.1 MB)\n",
      "  \u001b[31m   \u001b[0m Collecting wheel\n",
      "  \u001b[31m   \u001b[0m   Using cached wheel-0.40.0-py3-none-any.whl (64 kB)\n",
      "  \u001b[31m   \u001b[0m Collecting cython>=0.29.14\n",
      "  \u001b[31m   \u001b[0m   Using cached Cython-0.29.34-py2.py3-none-any.whl (988 kB)\n",
      "  \u001b[31m   \u001b[0m Collecting numpy==1.17.5\n",
      "  \u001b[31m   \u001b[0m   Using cached numpy-1.17.5.zip (6.4 MB)\n",
      "  \u001b[31m   \u001b[0m   Preparing metadata (setup.py): started\n",
      "  \u001b[31m   \u001b[0m   Preparing metadata (setup.py): finished with status 'done'\n",
      "  \u001b[31m   \u001b[0m Collecting scipy>=1.2\n",
      "  \u001b[31m   \u001b[0m   Using cached scipy-1.10.1-cp39-cp39-macosx_10_9_x86_64.whl (35.2 MB)\n",
      "  \u001b[31m   \u001b[0m   Using cached scipy-1.10.0-cp39-cp39-macosx_10_15_x86_64.whl (35.2 MB)\n",
      "  \u001b[31m   \u001b[0m   Using cached scipy-1.9.3-cp39-cp39-macosx_10_9_x86_64.whl (34.3 MB)\n",
      "  \u001b[31m   \u001b[0m   Using cached scipy-1.9.2-cp39-cp39-macosx_10_9_x86_64.whl (34.3 MB)\n",
      "  \u001b[31m   \u001b[0m   Using cached scipy-1.9.1-cp39-cp39-macosx_12_0_universal2.macosx_10_9_x86_64.whl (58.4 MB)\n",
      "  \u001b[31m   \u001b[0m   Using cached scipy-1.9.0-cp39-cp39-macosx_12_0_universal2.macosx_10_9_x86_64.whl (58.4 MB)\n",
      "  \u001b[31m   \u001b[0m   Using cached scipy-1.8.1-cp39-cp39-macosx_12_0_universal2.macosx_10_9_x86_64.whl (55.6 MB)\n",
      "  \u001b[31m   \u001b[0m Building wheels for collected packages: numpy\n",
      "  \u001b[31m   \u001b[0m   Building wheel for numpy (setup.py): started\n",
      "  \u001b[31m   \u001b[0m   Building wheel for numpy (setup.py): finished with status 'error'\n",
      "  \u001b[31m   \u001b[0m   error: subprocess-exited-with-error\n",
      "  \u001b[31m   \u001b[0m \n",
      "  \u001b[31m   \u001b[0m   × python setup.py bdist_wheel did not run successfully.\n",
      "  \u001b[31m   \u001b[0m   │ exit code: 1\n",
      "  \u001b[31m   \u001b[0m   ╰─> [127 lines of output]\n",
      "  \u001b[31m   \u001b[0m       Running from numpy source directory.\n",
      "  \u001b[31m   \u001b[0m       blas_opt_info:\n",
      "  \u001b[31m   \u001b[0m       blas_mkl_info:\n",
      "  \u001b[31m   \u001b[0m       customize UnixCCompiler\n",
      "  \u001b[31m   \u001b[0m         FOUND:\n",
      "  \u001b[31m   \u001b[0m           libraries = ['mkl_rt', 'pthread']\n",
      "  \u001b[31m   \u001b[0m           library_dirs = ['/Users/esmelxy/opt/anaconda3/lib']\n",
      "  \u001b[31m   \u001b[0m           define_macros = [('SCIPY_MKL_H', None), ('HAVE_CBLAS', None)]\n",
      "  \u001b[31m   \u001b[0m           include_dirs = ['/usr/local/include', '/Users/esmelxy/opt/anaconda3/include']\n",
      "  \u001b[31m   \u001b[0m \n",
      "  \u001b[31m   \u001b[0m         FOUND:\n",
      "  \u001b[31m   \u001b[0m           libraries = ['mkl_rt', 'pthread']\n",
      "  \u001b[31m   \u001b[0m           library_dirs = ['/Users/esmelxy/opt/anaconda3/lib']\n",
      "  \u001b[31m   \u001b[0m           define_macros = [('SCIPY_MKL_H', None), ('HAVE_CBLAS', None)]\n",
      "  \u001b[31m   \u001b[0m           include_dirs = ['/usr/local/include', '/Users/esmelxy/opt/anaconda3/include']\n",
      "  \u001b[31m   \u001b[0m \n",
      "  \u001b[31m   \u001b[0m       /bin/sh: svnversion: command not found\n",
      "  \u001b[31m   \u001b[0m       non-existing path in 'numpy/distutils': 'site.cfg'\n",
      "  \u001b[31m   \u001b[0m       lapack_opt_info:\n",
      "  \u001b[31m   \u001b[0m       lapack_mkl_info:\n",
      "  \u001b[31m   \u001b[0m       customize UnixCCompiler\n",
      "  \u001b[31m   \u001b[0m         FOUND:\n",
      "  \u001b[31m   \u001b[0m           libraries = ['mkl_rt', 'pthread']\n",
      "  \u001b[31m   \u001b[0m           library_dirs = ['/Users/esmelxy/opt/anaconda3/lib']\n",
      "  \u001b[31m   \u001b[0m           define_macros = [('SCIPY_MKL_H', None), ('HAVE_CBLAS', None)]\n",
      "  \u001b[31m   \u001b[0m           include_dirs = ['/usr/local/include', '/Users/esmelxy/opt/anaconda3/include']\n",
      "  \u001b[31m   \u001b[0m \n",
      "  \u001b[31m   \u001b[0m         FOUND:\n",
      "  \u001b[31m   \u001b[0m           libraries = ['mkl_rt', 'pthread']\n",
      "  \u001b[31m   \u001b[0m           library_dirs = ['/Users/esmelxy/opt/anaconda3/lib']\n",
      "  \u001b[31m   \u001b[0m           define_macros = [('SCIPY_MKL_H', None), ('HAVE_CBLAS', None)]\n",
      "  \u001b[31m   \u001b[0m           include_dirs = ['/usr/local/include', '/Users/esmelxy/opt/anaconda3/include']\n",
      "  \u001b[31m   \u001b[0m \n",
      "  \u001b[31m   \u001b[0m       /Users/esmelxy/opt/anaconda3/lib/python3.9/site-packages/setuptools/_distutils/dist.py:265: UserWarning: Unknown distribution option: 'define_macros'\n",
      "  \u001b[31m   \u001b[0m         warnings.warn(msg)\n",
      "  \u001b[31m   \u001b[0m       running bdist_wheel\n",
      "  \u001b[31m   \u001b[0m       running build\n",
      "  \u001b[31m   \u001b[0m       running config_cc\n",
      "  \u001b[31m   \u001b[0m       unifing config_cc, config, build_clib, build_ext, build commands --compiler options\n",
      "  \u001b[31m   \u001b[0m       running config_fc\n",
      "  \u001b[31m   \u001b[0m       unifing config_fc, config, build_clib, build_ext, build commands --fcompiler options\n",
      "  \u001b[31m   \u001b[0m       running build_src\n",
      "  \u001b[31m   \u001b[0m       build_src\n",
      "  \u001b[31m   \u001b[0m       building py_modules sources\n",
      "  \u001b[31m   \u001b[0m       creating build\n",
      "  \u001b[31m   \u001b[0m       creating build/src.macosx-10.9-x86_64-3.9\n",
      "  \u001b[31m   \u001b[0m       creating build/src.macosx-10.9-x86_64-3.9/numpy\n",
      "  \u001b[31m   \u001b[0m       creating build/src.macosx-10.9-x86_64-3.9/numpy/distutils\n",
      "  \u001b[31m   \u001b[0m       building library \"npymath\" sources\n",
      "  \u001b[31m   \u001b[0m       get_default_fcompiler: matching types: '['gnu95', 'nag', 'absoft', 'ibm', 'intel', 'gnu', 'g95', 'pg']'\n",
      "  \u001b[31m   \u001b[0m       customize Gnu95FCompiler\n",
      "  \u001b[31m   \u001b[0m       Could not locate executable gfortran\n",
      "  \u001b[31m   \u001b[0m       Could not locate executable f95\n",
      "  \u001b[31m   \u001b[0m       customize NAGFCompiler\n",
      "  \u001b[31m   \u001b[0m       customize AbsoftFCompiler\n",
      "  \u001b[31m   \u001b[0m       Could not locate executable f90\n",
      "  \u001b[31m   \u001b[0m       Could not locate executable f77\n",
      "  \u001b[31m   \u001b[0m       customize IBMFCompiler\n",
      "  \u001b[31m   \u001b[0m       Could not locate executable xlf90\n",
      "  \u001b[31m   \u001b[0m       Could not locate executable xlf\n",
      "  \u001b[31m   \u001b[0m       customize IntelFCompiler\n",
      "  \u001b[31m   \u001b[0m       Could not locate executable ifort\n",
      "  \u001b[31m   \u001b[0m       Could not locate executable ifc\n",
      "  \u001b[31m   \u001b[0m       customize GnuFCompiler\n",
      "  \u001b[31m   \u001b[0m       Could not locate executable g77\n",
      "  \u001b[31m   \u001b[0m       customize G95FCompiler\n",
      "  \u001b[31m   \u001b[0m       Could not locate executable g95\n",
      "  \u001b[31m   \u001b[0m       customize PGroupFCompiler\n",
      "  \u001b[31m   \u001b[0m       Could not locate executable pgfortran\n",
      "  \u001b[31m   \u001b[0m       don't know how to compile Fortran code on platform 'posix'\n",
      "  \u001b[31m   \u001b[0m       C compiler: clang -Wno-unused-result -Wsign-compare -Wunreachable-code -DNDEBUG -fwrapv -O2 -Wall -fPIC -O2 -isystem /Users/esmelxy/opt/anaconda3/include -arch x86_64 -I/Users/esmelxy/opt/anaconda3/include -fPIC -O2 -isystem /Users/esmelxy/opt/anaconda3/include -arch x86_64\n",
      "  \u001b[31m   \u001b[0m \n",
      "  \u001b[31m   \u001b[0m       compile options: '-Inumpy/core/src/common -Inumpy/core/src -Inumpy/core -Inumpy/core/src/npymath -Inumpy/core/src/multiarray -Inumpy/core/src/umath -Inumpy/core/src/npysort -I/Users/esmelxy/opt/anaconda3/include/python3.9 -c'\n",
      "  \u001b[31m   \u001b[0m       clang: _configtest.c\n",
      "  \u001b[31m   \u001b[0m       xcrun: error: invalid active developer path (/Library/Developer/CommandLineTools), missing xcrun at: /Library/Developer/CommandLineTools/usr/bin/xcrun\n",
      "  \u001b[31m   \u001b[0m       failure.\n",
      "  \u001b[31m   \u001b[0m       removing: _configtest.c _configtest.o\n",
      "  \u001b[31m   \u001b[0m       Traceback (most recent call last):\n",
      "  \u001b[31m   \u001b[0m         File \"<string>\", line 2, in <module>\n",
      "  \u001b[31m   \u001b[0m         File \"<pip-setuptools-caller>\", line 34, in <module>\n",
      "  \u001b[31m   \u001b[0m         File \"/private/var/folders/kz/r1wb87rd7mldcm88nkgwtq6m0000gn/T/pip-install-tuxuoqx5/numpy_95eb203c19074b839c81367a3c388cb7/setup.py\", line 444, in <module>\n",
      "  \u001b[31m   \u001b[0m           setup_package()\n",
      "  \u001b[31m   \u001b[0m         File \"/private/var/folders/kz/r1wb87rd7mldcm88nkgwtq6m0000gn/T/pip-install-tuxuoqx5/numpy_95eb203c19074b839c81367a3c388cb7/setup.py\", line 436, in setup_package\n",
      "  \u001b[31m   \u001b[0m           setup(**metadata)\n",
      "  \u001b[31m   \u001b[0m         File \"/private/var/folders/kz/r1wb87rd7mldcm88nkgwtq6m0000gn/T/pip-install-tuxuoqx5/numpy_95eb203c19074b839c81367a3c388cb7/numpy/distutils/core.py\", line 171, in setup\n",
      "  \u001b[31m   \u001b[0m           return old_setup(**new_attr)\n",
      "  \u001b[31m   \u001b[0m         File \"/Users/esmelxy/opt/anaconda3/lib/python3.9/site-packages/setuptools/__init__.py\", line 108, in setup\n",
      "  \u001b[31m   \u001b[0m           return distutils.core.setup(**attrs)\n",
      "  \u001b[31m   \u001b[0m         File \"/Users/esmelxy/opt/anaconda3/lib/python3.9/site-packages/setuptools/_distutils/core.py\", line 185, in setup\n",
      "  \u001b[31m   \u001b[0m           return run_commands(dist)\n",
      "  \u001b[31m   \u001b[0m         File \"/Users/esmelxy/opt/anaconda3/lib/python3.9/site-packages/setuptools/_distutils/core.py\", line 201, in run_commands\n",
      "  \u001b[31m   \u001b[0m           dist.run_commands()\n",
      "  \u001b[31m   \u001b[0m         File \"/Users/esmelxy/opt/anaconda3/lib/python3.9/site-packages/setuptools/_distutils/dist.py\", line 969, in run_commands\n",
      "  \u001b[31m   \u001b[0m           self.run_command(cmd)\n",
      "  \u001b[31m   \u001b[0m         File \"/Users/esmelxy/opt/anaconda3/lib/python3.9/site-packages/setuptools/dist.py\", line 1213, in run_command\n",
      "  \u001b[31m   \u001b[0m           super().run_command(command)\n",
      "  \u001b[31m   \u001b[0m         File \"/Users/esmelxy/opt/anaconda3/lib/python3.9/site-packages/setuptools/_distutils/dist.py\", line 988, in run_command\n",
      "  \u001b[31m   \u001b[0m           cmd_obj.run()\n",
      "  \u001b[31m   \u001b[0m         File \"/Users/esmelxy/opt/anaconda3/lib/python3.9/site-packages/wheel/bdist_wheel.py\", line 325, in run\n",
      "  \u001b[31m   \u001b[0m           self.run_command(\"build\")\n",
      "  \u001b[31m   \u001b[0m         File \"/Users/esmelxy/opt/anaconda3/lib/python3.9/site-packages/setuptools/_distutils/cmd.py\", line 318, in run_command\n",
      "  \u001b[31m   \u001b[0m           self.distribution.run_command(command)\n",
      "  \u001b[31m   \u001b[0m         File \"/Users/esmelxy/opt/anaconda3/lib/python3.9/site-packages/setuptools/dist.py\", line 1213, in run_command\n",
      "  \u001b[31m   \u001b[0m           super().run_command(command)\n",
      "  \u001b[31m   \u001b[0m         File \"/Users/esmelxy/opt/anaconda3/lib/python3.9/site-packages/setuptools/_distutils/dist.py\", line 988, in run_command\n",
      "  \u001b[31m   \u001b[0m           cmd_obj.run()\n",
      "  \u001b[31m   \u001b[0m         File \"/private/var/folders/kz/r1wb87rd7mldcm88nkgwtq6m0000gn/T/pip-install-tuxuoqx5/numpy_95eb203c19074b839c81367a3c388cb7/numpy/distutils/command/build.py\", line 47, in run\n",
      "  \u001b[31m   \u001b[0m           old_build.run(self)\n",
      "  \u001b[31m   \u001b[0m         File \"/Users/esmelxy/opt/anaconda3/lib/python3.9/site-packages/setuptools/_distutils/command/build.py\", line 132, in run\n",
      "  \u001b[31m   \u001b[0m           self.run_command(cmd_name)\n",
      "  \u001b[31m   \u001b[0m         File \"/Users/esmelxy/opt/anaconda3/lib/python3.9/site-packages/setuptools/_distutils/cmd.py\", line 318, in run_command\n",
      "  \u001b[31m   \u001b[0m           self.distribution.run_command(command)\n",
      "  \u001b[31m   \u001b[0m         File \"/Users/esmelxy/opt/anaconda3/lib/python3.9/site-packages/setuptools/dist.py\", line 1213, in run_command\n",
      "  \u001b[31m   \u001b[0m           super().run_command(command)\n",
      "  \u001b[31m   \u001b[0m         File \"/Users/esmelxy/opt/anaconda3/lib/python3.9/site-packages/setuptools/_distutils/dist.py\", line 988, in run_command\n",
      "  \u001b[31m   \u001b[0m           cmd_obj.run()\n",
      "  \u001b[31m   \u001b[0m         File \"/private/var/folders/kz/r1wb87rd7mldcm88nkgwtq6m0000gn/T/pip-install-tuxuoqx5/numpy_95eb203c19074b839c81367a3c388cb7/numpy/distutils/command/build_src.py\", line 142, in run\n",
      "  \u001b[31m   \u001b[0m           self.build_sources()\n",
      "  \u001b[31m   \u001b[0m         File \"/private/var/folders/kz/r1wb87rd7mldcm88nkgwtq6m0000gn/T/pip-install-tuxuoqx5/numpy_95eb203c19074b839c81367a3c388cb7/numpy/distutils/command/build_src.py\", line 153, in build_sources\n",
      "  \u001b[31m   \u001b[0m           self.build_library_sources(*libname_info)\n",
      "  \u001b[31m   \u001b[0m         File \"/private/var/folders/kz/r1wb87rd7mldcm88nkgwtq6m0000gn/T/pip-install-tuxuoqx5/numpy_95eb203c19074b839c81367a3c388cb7/numpy/distutils/command/build_src.py\", line 286, in build_library_sources\n",
      "  \u001b[31m   \u001b[0m           sources = self.generate_sources(sources, (lib_name, build_info))\n",
      "  \u001b[31m   \u001b[0m         File \"/private/var/folders/kz/r1wb87rd7mldcm88nkgwtq6m0000gn/T/pip-install-tuxuoqx5/numpy_95eb203c19074b839c81367a3c388cb7/numpy/distutils/command/build_src.py\", line 369, in generate_sources\n",
      "  \u001b[31m   \u001b[0m           source = func(extension, build_dir)\n",
      "  \u001b[31m   \u001b[0m         File \"numpy/core/setup.py\", line 669, in get_mathlib_info\n",
      "  \u001b[31m   \u001b[0m           raise RuntimeError(\"Broken toolchain: cannot link a simple C program\")\n",
      "  \u001b[31m   \u001b[0m       RuntimeError: Broken toolchain: cannot link a simple C program\n",
      "  \u001b[31m   \u001b[0m       [end of output]\n",
      "  \u001b[31m   \u001b[0m \n",
      "  \u001b[31m   \u001b[0m   note: This error originates from a subprocess, and is likely not a problem with pip.\n",
      "  \u001b[31m   \u001b[0m   ERROR: Failed building wheel for numpy\n",
      "  \u001b[31m   \u001b[0m   Running setup.py clean for numpy\n",
      "  \u001b[31m   \u001b[0m   error: subprocess-exited-with-error\n",
      "  \u001b[31m   \u001b[0m \n",
      "  \u001b[31m   \u001b[0m   × python setup.py clean did not run successfully.\n",
      "  \u001b[31m   \u001b[0m   │ exit code: 1\n",
      "  \u001b[31m   \u001b[0m   ╰─> [10 lines of output]\n",
      "  \u001b[31m   \u001b[0m       Running from numpy source directory.\n",
      "  \u001b[31m   \u001b[0m \n",
      "  \u001b[31m   \u001b[0m       `setup.py clean` is not supported, use one of the following instead:\n",
      "  \u001b[31m   \u001b[0m \n",
      "  \u001b[31m   \u001b[0m         - `git clean -xdf` (cleans all files)\n",
      "  \u001b[31m   \u001b[0m         - `git clean -Xdf` (cleans all versioned files, doesn't touch\n",
      "  \u001b[31m   \u001b[0m                             files that aren't checked into the git repo)\n",
      "  \u001b[31m   \u001b[0m \n",
      "  \u001b[31m   \u001b[0m       Add `--force` to your command to use it anyway if you must (unsupported).\n",
      "  \u001b[31m   \u001b[0m \n",
      "  \u001b[31m   \u001b[0m       [end of output]\n",
      "  \u001b[31m   \u001b[0m \n",
      "  \u001b[31m   \u001b[0m   note: This error originates from a subprocess, and is likely not a problem with pip.\n",
      "  \u001b[31m   \u001b[0m   ERROR: Failed cleaning build dir for numpy\n",
      "  \u001b[31m   \u001b[0m Failed to build numpy\n",
      "  \u001b[31m   \u001b[0m Installing collected packages: wheel, setuptools, numpy, cython, scipy\n",
      "  \u001b[31m   \u001b[0m   Running setup.py install for numpy: started\n",
      "  \u001b[31m   \u001b[0m   Running setup.py install for numpy: finished with status 'error'\n",
      "  \u001b[31m   \u001b[0m   error: subprocess-exited-with-error\n",
      "  \u001b[31m   \u001b[0m \n",
      "  \u001b[31m   \u001b[0m   × Running setup.py install for numpy did not run successfully.\n",
      "  \u001b[31m   \u001b[0m   │ exit code: 1\n",
      "  \u001b[31m   \u001b[0m   ╰─> [138 lines of output]\n",
      "  \u001b[31m   \u001b[0m       Running from numpy source directory.\n",
      "  \u001b[31m   \u001b[0m \n",
      "  \u001b[31m   \u001b[0m       Note: if you need reliable uninstall behavior, then install\n",
      "  \u001b[31m   \u001b[0m       with pip instead of using `setup.py install`:\n",
      "  \u001b[31m   \u001b[0m \n",
      "  \u001b[31m   \u001b[0m         - `pip install .`       (from a git repo or downloaded source\n",
      "  \u001b[31m   \u001b[0m                                  release)\n",
      "  \u001b[31m   \u001b[0m         - `pip install numpy`   (last NumPy release on PyPi)\n",
      "  \u001b[31m   \u001b[0m \n",
      "  \u001b[31m   \u001b[0m \n",
      "  \u001b[31m   \u001b[0m       blas_opt_info:\n",
      "  \u001b[31m   \u001b[0m       blas_mkl_info:\n",
      "  \u001b[31m   \u001b[0m       customize UnixCCompiler\n",
      "  \u001b[31m   \u001b[0m         FOUND:\n",
      "  \u001b[31m   \u001b[0m           libraries = ['mkl_rt', 'pthread']\n",
      "  \u001b[31m   \u001b[0m           library_dirs = ['/Users/esmelxy/opt/anaconda3/lib']\n",
      "  \u001b[31m   \u001b[0m           define_macros = [('SCIPY_MKL_H', None), ('HAVE_CBLAS', None)]\n",
      "  \u001b[31m   \u001b[0m           include_dirs = ['/usr/local/include', '/Users/esmelxy/opt/anaconda3/include']\n",
      "  \u001b[31m   \u001b[0m \n",
      "  \u001b[31m   \u001b[0m         FOUND:\n",
      "  \u001b[31m   \u001b[0m           libraries = ['mkl_rt', 'pthread']\n",
      "  \u001b[31m   \u001b[0m           library_dirs = ['/Users/esmelxy/opt/anaconda3/lib']\n",
      "  \u001b[31m   \u001b[0m           define_macros = [('SCIPY_MKL_H', None), ('HAVE_CBLAS', None)]\n",
      "  \u001b[31m   \u001b[0m           include_dirs = ['/usr/local/include', '/Users/esmelxy/opt/anaconda3/include']\n",
      "  \u001b[31m   \u001b[0m \n",
      "  \u001b[31m   \u001b[0m       /bin/sh: svnversion: command not found\n",
      "  \u001b[31m   \u001b[0m       non-existing path in 'numpy/distutils': 'site.cfg'\n",
      "  \u001b[31m   \u001b[0m       lapack_opt_info:\n",
      "  \u001b[31m   \u001b[0m       lapack_mkl_info:\n",
      "  \u001b[31m   \u001b[0m       customize UnixCCompiler\n",
      "  \u001b[31m   \u001b[0m         FOUND:\n",
      "  \u001b[31m   \u001b[0m           libraries = ['mkl_rt', 'pthread']\n",
      "  \u001b[31m   \u001b[0m           library_dirs = ['/Users/esmelxy/opt/anaconda3/lib']\n",
      "  \u001b[31m   \u001b[0m           define_macros = [('SCIPY_MKL_H', None), ('HAVE_CBLAS', None)]\n",
      "  \u001b[31m   \u001b[0m           include_dirs = ['/usr/local/include', '/Users/esmelxy/opt/anaconda3/include']\n",
      "  \u001b[31m   \u001b[0m \n",
      "  \u001b[31m   \u001b[0m         FOUND:\n",
      "  \u001b[31m   \u001b[0m           libraries = ['mkl_rt', 'pthread']\n",
      "  \u001b[31m   \u001b[0m           library_dirs = ['/Users/esmelxy/opt/anaconda3/lib']\n",
      "  \u001b[31m   \u001b[0m           define_macros = [('SCIPY_MKL_H', None), ('HAVE_CBLAS', None)]\n",
      "  \u001b[31m   \u001b[0m           include_dirs = ['/usr/local/include', '/Users/esmelxy/opt/anaconda3/include']\n",
      "  \u001b[31m   \u001b[0m \n",
      "  \u001b[31m   \u001b[0m       /Users/esmelxy/opt/anaconda3/lib/python3.9/site-packages/setuptools/_distutils/dist.py:265: UserWarning: Unknown distribution option: 'define_macros'\n",
      "  \u001b[31m   \u001b[0m         warnings.warn(msg)\n",
      "  \u001b[31m   \u001b[0m       running install\n",
      "  \u001b[31m   \u001b[0m       /Users/esmelxy/opt/anaconda3/lib/python3.9/site-packages/setuptools/command/install.py:34: SetuptoolsDeprecationWarning: setup.py install is deprecated. Use build and pip and other standards-based tools.\n",
      "  \u001b[31m   \u001b[0m         warnings.warn(\n",
      "  \u001b[31m   \u001b[0m       running build\n",
      "  \u001b[31m   \u001b[0m       running config_cc\n",
      "  \u001b[31m   \u001b[0m       unifing config_cc, config, build_clib, build_ext, build commands --compiler options\n",
      "  \u001b[31m   \u001b[0m       running config_fc\n",
      "  \u001b[31m   \u001b[0m       unifing config_fc, config, build_clib, build_ext, build commands --fcompiler options\n",
      "  \u001b[31m   \u001b[0m       running build_src\n",
      "  \u001b[31m   \u001b[0m       build_src\n",
      "  \u001b[31m   \u001b[0m       building py_modules sources\n",
      "  \u001b[31m   \u001b[0m       building library \"npymath\" sources\n",
      "  \u001b[31m   \u001b[0m       get_default_fcompiler: matching types: '['gnu95', 'nag', 'absoft', 'ibm', 'intel', 'gnu', 'g95', 'pg']'\n",
      "  \u001b[31m   \u001b[0m       customize Gnu95FCompiler\n",
      "  \u001b[31m   \u001b[0m       Could not locate executable gfortran\n",
      "  \u001b[31m   \u001b[0m       Could not locate executable f95\n",
      "  \u001b[31m   \u001b[0m       customize NAGFCompiler\n",
      "  \u001b[31m   \u001b[0m       customize AbsoftFCompiler\n",
      "  \u001b[31m   \u001b[0m       Could not locate executable f90\n",
      "  \u001b[31m   \u001b[0m       Could not locate executable f77\n",
      "  \u001b[31m   \u001b[0m       customize IBMFCompiler\n",
      "  \u001b[31m   \u001b[0m       Could not locate executable xlf90\n",
      "  \u001b[31m   \u001b[0m       Could not locate executable xlf\n",
      "  \u001b[31m   \u001b[0m       customize IntelFCompiler\n",
      "  \u001b[31m   \u001b[0m       Could not locate executable ifort\n",
      "  \u001b[31m   \u001b[0m       Could not locate executable ifc\n",
      "  \u001b[31m   \u001b[0m       customize GnuFCompiler\n",
      "  \u001b[31m   \u001b[0m       Could not locate executable g77\n",
      "  \u001b[31m   \u001b[0m       customize G95FCompiler\n",
      "  \u001b[31m   \u001b[0m       Could not locate executable g95\n",
      "  \u001b[31m   \u001b[0m       customize PGroupFCompiler\n",
      "  \u001b[31m   \u001b[0m       Could not locate executable pgfortran\n",
      "  \u001b[31m   \u001b[0m       don't know how to compile Fortran code on platform 'posix'\n",
      "  \u001b[31m   \u001b[0m       C compiler: clang -Wno-unused-result -Wsign-compare -Wunreachable-code -DNDEBUG -fwrapv -O2 -Wall -fPIC -O2 -isystem /Users/esmelxy/opt/anaconda3/include -arch x86_64 -I/Users/esmelxy/opt/anaconda3/include -fPIC -O2 -isystem /Users/esmelxy/opt/anaconda3/include -arch x86_64\n",
      "  \u001b[31m   \u001b[0m \n",
      "  \u001b[31m   \u001b[0m       compile options: '-Inumpy/core/src/common -Inumpy/core/src -Inumpy/core -Inumpy/core/src/npymath -Inumpy/core/src/multiarray -Inumpy/core/src/umath -Inumpy/core/src/npysort -I/Users/esmelxy/opt/anaconda3/include/python3.9 -c'\n",
      "  \u001b[31m   \u001b[0m       clang: _configtest.c\n",
      "  \u001b[31m   \u001b[0m       xcrun: error: invalid active developer path (/Library/Developer/CommandLineTools), missing xcrun at: /Library/Developer/CommandLineTools/usr/bin/xcrun\n",
      "  \u001b[31m   \u001b[0m       failure.\n",
      "  \u001b[31m   \u001b[0m       removing: _configtest.c _configtest.o\n",
      "  \u001b[31m   \u001b[0m       Traceback (most recent call last):\n",
      "  \u001b[31m   \u001b[0m         File \"<string>\", line 2, in <module>\n",
      "  \u001b[31m   \u001b[0m         File \"<pip-setuptools-caller>\", line 34, in <module>\n",
      "  \u001b[31m   \u001b[0m         File \"/private/var/folders/kz/r1wb87rd7mldcm88nkgwtq6m0000gn/T/pip-install-tuxuoqx5/numpy_95eb203c19074b839c81367a3c388cb7/setup.py\", line 444, in <module>\n",
      "  \u001b[31m   \u001b[0m           setup_package()\n",
      "  \u001b[31m   \u001b[0m         File \"/private/var/folders/kz/r1wb87rd7mldcm88nkgwtq6m0000gn/T/pip-install-tuxuoqx5/numpy_95eb203c19074b839c81367a3c388cb7/setup.py\", line 436, in setup_package\n",
      "  \u001b[31m   \u001b[0m           setup(**metadata)\n",
      "  \u001b[31m   \u001b[0m         File \"/private/var/folders/kz/r1wb87rd7mldcm88nkgwtq6m0000gn/T/pip-install-tuxuoqx5/numpy_95eb203c19074b839c81367a3c388cb7/numpy/distutils/core.py\", line 171, in setup\n",
      "  \u001b[31m   \u001b[0m           return old_setup(**new_attr)\n",
      "  \u001b[31m   \u001b[0m         File \"/Users/esmelxy/opt/anaconda3/lib/python3.9/site-packages/setuptools/__init__.py\", line 108, in setup\n",
      "  \u001b[31m   \u001b[0m           return distutils.core.setup(**attrs)\n",
      "  \u001b[31m   \u001b[0m         File \"/Users/esmelxy/opt/anaconda3/lib/python3.9/site-packages/setuptools/_distutils/core.py\", line 185, in setup\n",
      "  \u001b[31m   \u001b[0m           return run_commands(dist)\n",
      "  \u001b[31m   \u001b[0m         File \"/Users/esmelxy/opt/anaconda3/lib/python3.9/site-packages/setuptools/_distutils/core.py\", line 201, in run_commands\n",
      "  \u001b[31m   \u001b[0m           dist.run_commands()\n",
      "  \u001b[31m   \u001b[0m         File \"/Users/esmelxy/opt/anaconda3/lib/python3.9/site-packages/setuptools/_distutils/dist.py\", line 969, in run_commands\n",
      "  \u001b[31m   \u001b[0m           self.run_command(cmd)\n",
      "  \u001b[31m   \u001b[0m         File \"/Users/esmelxy/opt/anaconda3/lib/python3.9/site-packages/setuptools/dist.py\", line 1213, in run_command\n",
      "  \u001b[31m   \u001b[0m           super().run_command(command)\n",
      "  \u001b[31m   \u001b[0m         File \"/Users/esmelxy/opt/anaconda3/lib/python3.9/site-packages/setuptools/_distutils/dist.py\", line 988, in run_command\n",
      "  \u001b[31m   \u001b[0m           cmd_obj.run()\n",
      "  \u001b[31m   \u001b[0m         File \"/private/var/folders/kz/r1wb87rd7mldcm88nkgwtq6m0000gn/T/pip-install-tuxuoqx5/numpy_95eb203c19074b839c81367a3c388cb7/numpy/distutils/command/install.py\", line 62, in run\n",
      "  \u001b[31m   \u001b[0m           r = self.setuptools_run()\n",
      "  \u001b[31m   \u001b[0m         File \"/private/var/folders/kz/r1wb87rd7mldcm88nkgwtq6m0000gn/T/pip-install-tuxuoqx5/numpy_95eb203c19074b839c81367a3c388cb7/numpy/distutils/command/install.py\", line 36, in setuptools_run\n",
      "  \u001b[31m   \u001b[0m           return distutils_install.run(self)\n",
      "  \u001b[31m   \u001b[0m         File \"/Users/esmelxy/opt/anaconda3/lib/python3.9/site-packages/setuptools/_distutils/command/install.py\", line 698, in run\n",
      "  \u001b[31m   \u001b[0m           self.run_command('build')\n",
      "  \u001b[31m   \u001b[0m         File \"/Users/esmelxy/opt/anaconda3/lib/python3.9/site-packages/setuptools/_distutils/cmd.py\", line 318, in run_command\n",
      "  \u001b[31m   \u001b[0m           self.distribution.run_command(command)\n",
      "  \u001b[31m   \u001b[0m         File \"/Users/esmelxy/opt/anaconda3/lib/python3.9/site-packages/setuptools/dist.py\", line 1213, in run_command\n",
      "  \u001b[31m   \u001b[0m           super().run_command(command)\n",
      "  \u001b[31m   \u001b[0m         File \"/Users/esmelxy/opt/anaconda3/lib/python3.9/site-packages/setuptools/_distutils/dist.py\", line 988, in run_command\n",
      "  \u001b[31m   \u001b[0m           cmd_obj.run()\n",
      "  \u001b[31m   \u001b[0m         File \"/private/var/folders/kz/r1wb87rd7mldcm88nkgwtq6m0000gn/T/pip-install-tuxuoqx5/numpy_95eb203c19074b839c81367a3c388cb7/numpy/distutils/command/build.py\", line 47, in run\n",
      "  \u001b[31m   \u001b[0m           old_build.run(self)\n",
      "  \u001b[31m   \u001b[0m         File \"/Users/esmelxy/opt/anaconda3/lib/python3.9/site-packages/setuptools/_distutils/command/build.py\", line 132, in run\n",
      "  \u001b[31m   \u001b[0m           self.run_command(cmd_name)\n",
      "  \u001b[31m   \u001b[0m         File \"/Users/esmelxy/opt/anaconda3/lib/python3.9/site-packages/setuptools/_distutils/cmd.py\", line 318, in run_command\n",
      "  \u001b[31m   \u001b[0m           self.distribution.run_command(command)\n",
      "  \u001b[31m   \u001b[0m         File \"/Users/esmelxy/opt/anaconda3/lib/python3.9/site-packages/setuptools/dist.py\", line 1213, in run_command\n",
      "  \u001b[31m   \u001b[0m           super().run_command(command)\n",
      "  \u001b[31m   \u001b[0m         File \"/Users/esmelxy/opt/anaconda3/lib/python3.9/site-packages/setuptools/_distutils/dist.py\", line 988, in run_command\n",
      "  \u001b[31m   \u001b[0m           cmd_obj.run()\n",
      "  \u001b[31m   \u001b[0m         File \"/private/var/folders/kz/r1wb87rd7mldcm88nkgwtq6m0000gn/T/pip-install-tuxuoqx5/numpy_95eb203c19074b839c81367a3c388cb7/numpy/distutils/command/build_src.py\", line 142, in run\n",
      "  \u001b[31m   \u001b[0m           self.build_sources()\n",
      "  \u001b[31m   \u001b[0m         File \"/private/var/folders/kz/r1wb87rd7mldcm88nkgwtq6m0000gn/T/pip-install-tuxuoqx5/numpy_95eb203c19074b839c81367a3c388cb7/numpy/distutils/command/build_src.py\", line 153, in build_sources\n",
      "  \u001b[31m   \u001b[0m           self.build_library_sources(*libname_info)\n",
      "  \u001b[31m   \u001b[0m         File \"/private/var/folders/kz/r1wb87rd7mldcm88nkgwtq6m0000gn/T/pip-install-tuxuoqx5/numpy_95eb203c19074b839c81367a3c388cb7/numpy/distutils/command/build_src.py\", line 286, in build_library_sources\n",
      "  \u001b[31m   \u001b[0m           sources = self.generate_sources(sources, (lib_name, build_info))\n",
      "  \u001b[31m   \u001b[0m         File \"/private/var/folders/kz/r1wb87rd7mldcm88nkgwtq6m0000gn/T/pip-install-tuxuoqx5/numpy_95eb203c19074b839c81367a3c388cb7/numpy/distutils/command/build_src.py\", line 369, in generate_sources\n",
      "  \u001b[31m   \u001b[0m           source = func(extension, build_dir)\n",
      "  \u001b[31m   \u001b[0m         File \"numpy/core/setup.py\", line 669, in get_mathlib_info\n",
      "  \u001b[31m   \u001b[0m           raise RuntimeError(\"Broken toolchain: cannot link a simple C program\")\n",
      "  \u001b[31m   \u001b[0m       RuntimeError: Broken toolchain: cannot link a simple C program\n",
      "  \u001b[31m   \u001b[0m       [end of output]\n",
      "  \u001b[31m   \u001b[0m \n",
      "  \u001b[31m   \u001b[0m   note: This error originates from a subprocess, and is likely not a problem with pip.\n",
      "  \u001b[31m   \u001b[0m error: legacy-install-failure\n",
      "  \u001b[31m   \u001b[0m \n",
      "  \u001b[31m   \u001b[0m × Encountered error while trying to install package.\n",
      "  \u001b[31m   \u001b[0m ╰─> numpy\n",
      "  \u001b[31m   \u001b[0m \n",
      "  \u001b[31m   \u001b[0m note: This is an issue with the package mentioned above, not pip.\n",
      "  \u001b[31m   \u001b[0m hint: See above for output from the failure.\n",
      "  \u001b[31m   \u001b[0m \n",
      "  \u001b[31m   \u001b[0m [notice] A new release of pip available: 22.3.1 -> 23.0.1\n",
      "  \u001b[31m   \u001b[0m [notice] To update, run: pip install --upgrade pip\n",
      "  \u001b[31m   \u001b[0m \u001b[31m[end of output]\u001b[0m\n",
      "  \n",
      "  \u001b[1;35mnote\u001b[0m: This error originates from a subprocess, and is likely not a problem with pip.\n",
      "\u001b[1;31merror\u001b[0m: \u001b[1msubprocess-exited-with-error\u001b[0m\n",
      "\n",
      "\u001b[31m×\u001b[0m \u001b[32mpip subprocess to install build dependencies\u001b[0m did not run successfully.\n",
      "\u001b[31m│\u001b[0m exit code: \u001b[1;36m1\u001b[0m\n",
      "\u001b[31m╰─>\u001b[0m See above for output.\n",
      "\n",
      "\u001b[1;35mnote\u001b[0m: This error originates from a subprocess, and is likely not a problem with pip.\n"
     ]
    },
    {
     "name": "stdout",
     "output_type": "stream",
     "text": [
      "\n",
      "\u001b[1m[\u001b[0m\u001b[34;49mnotice\u001b[0m\u001b[1;39;49m]\u001b[0m\u001b[39;49m A new release of pip available: \u001b[0m\u001b[31;49m22.3.1\u001b[0m\u001b[39;49m -> \u001b[0m\u001b[32;49m23.0.1\u001b[0m\n",
      "\u001b[1m[\u001b[0m\u001b[34;49mnotice\u001b[0m\u001b[1;39;49m]\u001b[0m\u001b[39;49m To update, run: \u001b[0m\u001b[32;49mpip install --upgrade pip\u001b[0m\n",
      "\u001b[?25hRequirement already satisfied: Cython in /Users/esmelxy/opt/anaconda3/lib/python3.9/site-packages (0.29.34)\n",
      "\n",
      "\u001b[1m[\u001b[0m\u001b[34;49mnotice\u001b[0m\u001b[1;39;49m]\u001b[0m\u001b[39;49m A new release of pip available: \u001b[0m\u001b[31;49m22.3.1\u001b[0m\u001b[39;49m -> \u001b[0m\u001b[32;49m23.0.1\u001b[0m\n",
      "\u001b[1m[\u001b[0m\u001b[34;49mnotice\u001b[0m\u001b[1;39;49m]\u001b[0m\u001b[39;49m To update, run: \u001b[0m\u001b[32;49mpip install --upgrade pip\u001b[0m\n",
      "Collecting git+https://github.com/statsmodels/statsmodels\n",
      "  Cloning https://github.com/statsmodels/statsmodels to /private/var/folders/kz/r1wb87rd7mldcm88nkgwtq6m0000gn/T/pip-req-build-46oxkinw\n",
      "  \u001b[1;31merror\u001b[0m: \u001b[1msubprocess-exited-with-error\u001b[0m\n",
      "  \n",
      "  \u001b[31m×\u001b[0m \u001b[32mgit version\u001b[0m did not run successfully.\n",
      "  \u001b[31m│\u001b[0m exit code: \u001b[1;36m1\u001b[0m\n",
      "  \u001b[31m╰─>\u001b[0m \u001b[31m[2 lines of output]\u001b[0m\n",
      "  \u001b[31m   \u001b[0m xcrun: error: invalid active developer path (/Library/Developer/CommandLineTools), missing xcrun at: /Library/Developer/CommandLineTools/usr/bin/xcrun\n",
      "  \u001b[31m   \u001b[0m \u001b[31m[end of output]\u001b[0m\n",
      "  \n",
      "  \u001b[1;35mnote\u001b[0m: This error originates from a subprocess, and is likely not a problem with pip.\n",
      "\u001b[1;31merror\u001b[0m: \u001b[1msubprocess-exited-with-error\u001b[0m\n",
      "\n",
      "\u001b[31m×\u001b[0m \u001b[32mgit version\u001b[0m did not run successfully.\n",
      "\u001b[31m│\u001b[0m exit code: \u001b[1;36m1\u001b[0m\n",
      "\u001b[31m╰─>\u001b[0m See above for output.\n",
      "\n",
      "\u001b[1;35mnote\u001b[0m: This error originates from a subprocess, and is likely not a problem with pip.\n",
      "\n",
      "\u001b[1m[\u001b[0m\u001b[34;49mnotice\u001b[0m\u001b[1;39;49m]\u001b[0m\u001b[39;49m A new release of pip available: \u001b[0m\u001b[31;49m22.3.1\u001b[0m\u001b[39;49m -> \u001b[0m\u001b[32;49m23.0.1\u001b[0m\n",
      "\u001b[1m[\u001b[0m\u001b[34;49mnotice\u001b[0m\u001b[1;39;49m]\u001b[0m\u001b[39;49m To update, run: \u001b[0m\u001b[32;49mpip install --upgrade pip\u001b[0m\n"
     ]
    }
   ],
   "source": [
    "! pip install statsmodels --upgrade\n",
    "! pip install statsmodels==0.12.0\n",
    "# This has also worked:\n",
    "! pip install --upgrade Cython\n",
    "! pip install --upgrade git+https://github.com/statsmodels/statsmodels"
   ]
  },
  {
   "cell_type": "code",
   "execution_count": 5,
   "id": "7d2fd69e",
   "metadata": {},
   "outputs": [
    {
     "name": "stdout",
     "output_type": "stream",
     "text": [
      "[ -8.28108808  16.35233161  -8.64766839  19.35233161  18.94559585\n",
      "   9.35233161  -7.64766839   0.35233161  -9.64766839 -23.21891192\n",
      " -13.64766839  -8.64766839  -9.64766839 -13.64766839   4.78108808\n",
      " -12.64766839  -0.64766839  -4.64766839  -3.99222798 -11.64766839\n",
      "  13.35233161]\n"
     ]
    }
   ],
   "source": [
    "actual = dfjeans['resi'][5:27].values\n",
    "print(actual)"
   ]
  },
  {
   "cell_type": "code",
   "execution_count": 25,
   "id": "c660d5cf",
   "metadata": {
    "scrolled": true
   },
   "outputs": [
    {
     "name": "stdout",
     "output_type": "stream",
     "text": [
      "[0.1, 155.23442458461145]\n",
      "[0.2, 147.65893181968653]\n",
      "[0.30000000000000004, 143.53487191252546]\n",
      "[0.4, 143.81974374995647]\n",
      "[0.5, 147.3810417645196]\n",
      "[0.6, 153.81867382231235]\n",
      "[0.7000000000000001, 163.15318392688218]\n",
      "[0.8, 175.5900321076391]\n",
      "[0.9, 191.4881782711312]\n",
      "[1.0, 211.46384738356565]\n"
     ]
    }
   ],
   "source": [
    "from statsmodels.tsa.api import ExponentialSmoothing\n",
    "import numpy as np\n",
    "for alpha in np.arange(0.1, 1.1, 0.1):\n",
    "    print([alpha, mean_squared_error(dfjeans.resi[5:],ExponentialSmoothing(dfjeans.resi, initialization_method\n",
    "                                                                            ='estimated').fit(smoothing_level\n",
    "                                                                                              = alpha).predict(5,25))])"
   ]
  },
  {
   "cell_type": "markdown",
   "id": "b4cac4bf",
   "metadata": {},
   "source": [
    "#### SES(0.3) with the smallest MSE which is 143.53487191252546"
   ]
  },
  {
   "cell_type": "markdown",
   "id": "fd7ed382",
   "metadata": {},
   "source": [
    "## c. Assess MA* versus Single ES*"
   ]
  },
  {
   "cell_type": "code",
   "execution_count": 26,
   "id": "e2849d19",
   "metadata": {},
   "outputs": [],
   "source": [
    "dfjeans.loc[4:25, 'ma'] = dfjeans[\"resi\"].rolling(3).mean().iloc[4:25]\n",
    "dfjeans.loc[4:25, 'ses'] = ExponentialSmoothing(dfjeans.resi, initialization_method='estimated').fit(smoothing_level \n",
    "                                                                                                      = 0.3).predict(5,27)\n"
   ]
  },
  {
   "cell_type": "code",
   "execution_count": 27,
   "id": "f42837e2",
   "metadata": {
    "scrolled": true
   },
   "outputs": [
    {
     "data": {
      "image/png": "[encoded data removed]",
      "text/plain": [
       "<Figure size 720x360 with 1 Axes>"
      ]
     },
     "metadata": {
      "needs_background": "light"
     },
     "output_type": "display_data"
    }
   ],
   "source": [
    "import matplotlib.pyplot as plt\n",
    "plt.figure(figsize=(10,5))\n",
    "plt.plot(dfjeans.resi[:27], label='Train')\n",
    "plt.plot(dfjeans.ma[6:27], label='MA*')\n",
    "plt.plot(dfjeans.ses[6:27], label='SES*')\n",
    "plt.legend(loc='best')\n",
    "plt.xlabel('Week')\n",
    "plt.ylabel('Demand Quantity')\n",
    "plt.show()"
   ]
  },
  {
   "cell_type": "markdown",
   "id": "42408293",
   "metadata": {},
   "source": [
    "# Part II: Non-Stationary Series with Trend"
   ]
  },
  {
   "cell_type": "code",
   "execution_count": 14,
   "id": "bf04b29a",
   "metadata": {},
   "outputs": [],
   "source": [
    "import pickle\n",
    "with open('bitcoin_data.pkl', 'rb') as f:\n",
    "    data = pickle.load(f)"
   ]
  },
  {
   "cell_type": "code",
   "execution_count": 15,
   "id": "e32b85d2",
   "metadata": {},
   "outputs": [
    {
     "name": "stdout",
     "output_type": "stream",
     "text": [
      "           date         price\n",
      "0    2018-02-17  10503.298333\n",
      "1    2018-02-18  11110.965000\n",
      "2    2018-02-19  11390.391667\n",
      "3    2018-02-20  10532.791667\n",
      "4    2018-02-21   9931.071667\n",
      "..          ...           ...\n",
      "175  2018-08-11   6311.131667\n",
      "176  2018-08-12   6347.070000\n",
      "177  2018-08-13   6050.942500\n",
      "178  2018-08-14   6362.676923\n",
      "179  2018-08-15   6342.629231\n",
      "\n",
      "[180 rows x 2 columns]\n"
     ]
    }
   ],
   "source": [
    "print(data)"
   ]
  },
  {
   "cell_type": "markdown",
   "id": "c84e9207",
   "metadata": {},
   "source": [
    "## a. Test for non-stationarity"
   ]
  },
  {
   "cell_type": "code",
   "execution_count": 16,
   "id": "e456c763",
   "metadata": {},
   "outputs": [
    {
     "name": "stdout",
     "output_type": "stream",
     "text": [
      "ADF Statistic: -1.918100\n",
      "p-value: 0.323595\n"
     ]
    }
   ],
   "source": [
    "from statsmodels.tsa.stattools import adfuller\n",
    "ad_result = adfuller(data.price)\n",
    "print('ADF Statistic: %f' % ad_result[0])\n",
    "print('p-value: %f' % ad_result[1])"
   ]
  },
  {
   "cell_type": "markdown",
   "id": "11f5a39a",
   "metadata": {},
   "source": [
    "#### According to the above result, our P-value is 0.323595 which is bigger than the 0.05. Therefore, we can't reject our null hypothesis which is time series has a unit root(non-stationary)"
   ]
  },
  {
   "cell_type": "markdown",
   "id": "af5f3b91",
   "metadata": {},
   "source": [
    "## b. Double Exponential Smoothing (DES) estimations"
   ]
  },
  {
   "cell_type": "code",
   "execution_count": 18,
   "id": "7074ddac",
   "metadata": {},
   "outputs": [],
   "source": [
    "from itertools import product\n",
    "from statsmodels.tsa.api import ExponentialSmoothing\n",
    "from sklearn.metrics import mean_squared_error\n",
    "def DESMSE(alpha,beta):\n",
    "    return mean_squared_error(data.price[10:150],\n",
    "                              ExponentialSmoothing(data.price[:150],trend=\"add\", \n",
    "                                                   initialization_method\n",
    "                                                   ='estimated').fit(smoothing_level \n",
    "                                                = alpha,smoothing_trend = beta).predict(10,149))"
   ]
  },
  {
   "cell_type": "code",
   "execution_count": 19,
   "id": "fd294863",
   "metadata": {},
   "outputs": [],
   "source": [
    "\n",
    "def expand_grid(dictionary):\n",
    "   return pd.DataFrame([row for row in product(*dictionary.values())], \n",
    "                       columns=dictionary.keys())\n",
    "\n",
    "dictionary = {'alpha': np.arange(0.0, 1.0, 0.05), \n",
    "              'beta': np.arange(0.0, 1.0, 0.05)}\n",
    "\n",
    "des_results = expand_grid(dictionary)\n",
    "# add a column called mse\n",
    "des_results[\"mse\"] = np.repeat(0,len(des_results))"
   ]
  },
  {
   "cell_type": "code",
   "execution_count": 20,
   "id": "c2740e73",
   "metadata": {},
   "outputs": [],
   "source": [
    "import time\n",
    "start = time.time()\n",
    "for alpha in np.arange(0.0, 1.01, 0.05):\n",
    "    for beta in np.arange(0.0, 1.01, 0.05):\n",
    "       des_results.loc[(des_results[\"alpha\"] == alpha) & (des_results[\"beta\"] == beta),\"mse\"] = DESMSE(alpha,beta)\n",
    "#end = time.time()\n",
    "#end-start\n"
   ]
  },
  {
   "cell_type": "code",
   "execution_count": 21,
   "id": "8120dd7e",
   "metadata": {},
   "outputs": [
    {
     "data": {
      "text/html": [
       "<div>\n",
       "<style scoped>\n",
       "    .dataframe tbody tr th:only-of-type {\n",
       "        vertical-align: middle;\n",
       "    }\n",
       "\n",
       "    .dataframe tbody tr th {\n",
       "        vertical-align: top;\n",
       "    }\n",
       "\n",
       "    .dataframe thead th {\n",
       "        text-align: right;\n",
       "    }\n",
       "</style>\n",
       "<table border=\"1\" class=\"dataframe\">\n",
       "  <thead>\n",
       "    <tr style=\"text-align: right;\">\n",
       "      <th></th>\n",
       "      <th>alpha</th>\n",
       "      <th>beta</th>\n",
       "      <th>mse</th>\n",
       "    </tr>\n",
       "  </thead>\n",
       "  <tbody>\n",
       "    <tr>\n",
       "      <th>380</th>\n",
       "      <td>0.95</td>\n",
       "      <td>0.00</td>\n",
       "      <td>96794.753096</td>\n",
       "    </tr>\n",
       "    <tr>\n",
       "      <th>360</th>\n",
       "      <td>0.90</td>\n",
       "      <td>0.00</td>\n",
       "      <td>97372.973081</td>\n",
       "    </tr>\n",
       "    <tr>\n",
       "      <th>340</th>\n",
       "      <td>0.85</td>\n",
       "      <td>0.00</td>\n",
       "      <td>98568.985917</td>\n",
       "    </tr>\n",
       "    <tr>\n",
       "      <th>381</th>\n",
       "      <td>0.95</td>\n",
       "      <td>0.05</td>\n",
       "      <td>99607.965725</td>\n",
       "    </tr>\n",
       "    <tr>\n",
       "      <th>361</th>\n",
       "      <td>0.90</td>\n",
       "      <td>0.05</td>\n",
       "      <td>100030.342873</td>\n",
       "    </tr>\n",
       "    <tr>\n",
       "      <th>320</th>\n",
       "      <td>0.80</td>\n",
       "      <td>0.00</td>\n",
       "      <td>100418.792514</td>\n",
       "    </tr>\n",
       "    <tr>\n",
       "      <th>341</th>\n",
       "      <td>0.85</td>\n",
       "      <td>0.05</td>\n",
       "      <td>101127.626267</td>\n",
       "    </tr>\n",
       "    <tr>\n",
       "      <th>382</th>\n",
       "      <td>0.95</td>\n",
       "      <td>0.10</td>\n",
       "      <td>101642.187703</td>\n",
       "    </tr>\n",
       "    <tr>\n",
       "      <th>362</th>\n",
       "      <td>0.90</td>\n",
       "      <td>0.10</td>\n",
       "      <td>101785.735468</td>\n",
       "    </tr>\n",
       "    <tr>\n",
       "      <th>342</th>\n",
       "      <td>0.85</td>\n",
       "      <td>0.10</td>\n",
       "      <td>102643.461781</td>\n",
       "    </tr>\n",
       "  </tbody>\n",
       "</table>\n",
       "</div>"
      ],
      "text/plain": [
       "     alpha  beta            mse\n",
       "380   0.95  0.00   96794.753096\n",
       "360   0.90  0.00   97372.973081\n",
       "340   0.85  0.00   98568.985917\n",
       "381   0.95  0.05   99607.965725\n",
       "361   0.90  0.05  100030.342873\n",
       "320   0.80  0.00  100418.792514\n",
       "341   0.85  0.05  101127.626267\n",
       "382   0.95  0.10  101642.187703\n",
       "362   0.90  0.10  101785.735468\n",
       "342   0.85  0.10  102643.461781"
      ]
     },
     "execution_count": 21,
     "metadata": {},
     "output_type": "execute_result"
    }
   ],
   "source": [
    "des_results.sort_values(\"mse\").head(10)\n"
   ]
  },
  {
   "cell_type": "code",
   "execution_count": 38,
   "id": "cfd8816a",
   "metadata": {},
   "outputs": [
    {
     "data": {
      "text/plain": [
       "96794.75027128843"
      ]
     },
     "execution_count": 38,
     "metadata": {},
     "output_type": "execute_result"
    }
   ],
   "source": [
    "#Calculate training sample MSE for days 11 to 150\n",
    "DESMSE(0.95,0.00)"
   ]
  },
  {
   "cell_type": "code",
   "execution_count": 25,
   "id": "e7b65f78",
   "metadata": {},
   "outputs": [],
   "source": [
    "# store DES(0.95,0.00) in the test sample\n",
    "data.loc[data.index[150:], 'des'] = ExponentialSmoothing(data.price[:150],trend=\"add\", \n",
    "                                                        initialization_method='estimated').fit(\n",
    "    smoothing_level = 0.95,smoothing_trend = 0.00).forecast(30)\n"
   ]
  },
  {
   "cell_type": "code",
   "execution_count": 27,
   "id": "df59d052",
   "metadata": {},
   "outputs": [
    {
     "data": {
      "text/plain": [
       "917027.3167926484"
      ]
     },
     "execution_count": 27,
     "metadata": {},
     "output_type": "execute_result"
    }
   ],
   "source": [
    "#MSE in test data\n",
    "mean_squared_error(data.price[150:],data.des[150:])"
   ]
  },
  {
   "cell_type": "code",
   "execution_count": 24,
   "id": "d28be9b6",
   "metadata": {
    "scrolled": true
   },
   "outputs": [
    {
     "data": {
      "image/png": "[encoded data removed]",
      "text/plain": [
       "<Figure size 720x360 with 1 Axes>"
      ]
     },
     "metadata": {
      "needs_background": "light"
     },
     "output_type": "display_data"
    }
   ],
   "source": [
    "import matplotlib.pyplot as plt\n",
    "plt.figure(figsize=(10,5))\n",
    "plt.plot(data.price[:150], label='Train')\n",
    "plt.plot(data.price[149:], label='Test')\n",
    "plt.plot(data.des[150:], label='DES*')\n",
    "plt.legend(loc='best')\n",
    "plt.xlabel('Week')\n",
    "plt.ylabel('Price')\n",
    "plt.show()"
   ]
  },
  {
   "cell_type": "markdown",
   "id": "2593ffad",
   "metadata": {},
   "source": [
    "#### Report resultant MSE values, \n",
    "#### The MSE of training: MSE in the training data is 96794.75027128843\n",
    "#### The MSE of testing: MSE in the test data is 917027.3167926484 \n"
   ]
  },
  {
   "cell_type": "markdown",
   "id": "199773e6",
   "metadata": {},
   "source": [
    "## Part III: De-Seasonalizing Data and Forecasting"
   ]
  },
  {
   "cell_type": "markdown",
   "id": "1a9da5f9",
   "metadata": {},
   "source": [
    "## a. De-seasonalize the historical data"
   ]
  },
  {
   "cell_type": "code",
   "execution_count": 32,
   "id": "582232e1",
   "metadata": {},
   "outputs": [
    {
     "name": "stdout",
     "output_type": "stream",
     "text": [
      "   Unnamed: 0   2003   2004   2005   2006   2007   2008   2009   2010   2011  \\\n",
      "0     January  64.40  65.28  69.77  72.68  72.30  72.95  72.82  74.89  76.55   \n",
      "1    February  68.10  68.60  71.58  76.07  75.71  75.91  75.28  77.35  77.92   \n",
      "2       March  72.43  75.13  79.58  81.31  81.57  82.19  81.08  83.39  82.70   \n",
      "3       April  72.13  76.17  76.64  81.34  81.38  80.09  82.10  82.55  82.13   \n",
      "4         May  73.98  74.41  77.52  80.39  81.27  81.34  81.32  82.51  84.58   \n",
      "5        June  78.58  80.72  82.27  84.56  86.24  84.24  85.37  86.32  85.98   \n",
      "6        July  80.98  82.20  83.94  84.95  86.24  84.11  87.09  86.90  87.14   \n",
      "7      August  78.74  78.74  80.34  80.90  84.89  83.35  84.97  85.20  85.59   \n",
      "8   September  66.93  70.39  74.12  73.78  75.61  76.07  79.42  79.81  81.82   \n",
      "9     October  71.47  74.23  75.94  77.50  78.45  79.76  82.22  83.32  83.63   \n",
      "10   November  70.45  73.21  76.53  77.98  77.66  75.89  79.17  81.19  83.48   \n",
      "11   December  72.52  72.74  75.81  76.57  75.60  79.17  79.87  80.85  81.11   \n",
      "\n",
      "     2012   2013  \n",
      "0   78.02  78.89  \n",
      "1   78.90  80.77  \n",
      "2   84.43  84.99  \n",
      "3   83.61  82.81  \n",
      "4   84.45  84.84  \n",
      "5   86.62  86.98  \n",
      "6   86.83  86.46  \n",
      "7   86.61  85.53  \n",
      "8   80.64  80.90  \n",
      "9   84.23  82.77  \n",
      "10  82.78    NaN  \n",
      "11  81.54    NaN  \n",
      "     month  year   load\n",
      "12       0  2003   64.4\n",
      "13       1  2003   68.1\n",
      "14       2  2003  72.43\n",
      "15       3  2003  72.13\n",
      "16       4  2003  73.98\n",
      "..     ...   ...    ...\n",
      "139      7  2013  85.53\n",
      "140      8  2013   80.9\n",
      "141      9  2013  82.77\n",
      "142     10  2013    NaN\n",
      "143     11  2013    NaN\n",
      "\n",
      "[132 rows x 3 columns]\n"
     ]
    }
   ],
   "source": [
    "dfairline = pd.read_excel(\"airline_data.xlsx\")\n",
    "dfairline\n",
    "print(dfairline)\n",
    "# reset index\n",
    "dfairline = dfairline.reset_index()\n",
    "# wide to long\n",
    "dfairline = pd.melt(dfairline, id_vars=['index'])\n",
    "# rename\n",
    "dfairline = dfairline.iloc[12: , :]\n",
    "dfairline.columns = [\"month\",\"year\",\"load\"]\n",
    "\n",
    "print(dfairline)"
   ]
  },
  {
   "cell_type": "code",
   "execution_count": 34,
   "id": "7e1fe8f1",
   "metadata": {
    "scrolled": false
   },
   "outputs": [
    {
     "data": {
      "text/html": [
       "<div>\n",
       "<style scoped>\n",
       "    .dataframe tbody tr th:only-of-type {\n",
       "        vertical-align: middle;\n",
       "    }\n",
       "\n",
       "    .dataframe tbody tr th {\n",
       "        vertical-align: top;\n",
       "    }\n",
       "\n",
       "    .dataframe thead th {\n",
       "        text-align: right;\n",
       "    }\n",
       "</style>\n",
       "<table border=\"1\" class=\"dataframe\">\n",
       "  <thead>\n",
       "    <tr style=\"text-align: right;\">\n",
       "      <th></th>\n",
       "      <th>month</th>\n",
       "      <th>year</th>\n",
       "      <th>load</th>\n",
       "      <th>avg</th>\n",
       "      <th>month_avg</th>\n",
       "      <th>Monthly_Factor</th>\n",
       "      <th>de_load</th>\n",
       "    </tr>\n",
       "  </thead>\n",
       "  <tbody>\n",
       "    <tr>\n",
       "      <th>139</th>\n",
       "      <td>7</td>\n",
       "      <td>2013</td>\n",
       "      <td>85.53</td>\n",
       "      <td>79.444692</td>\n",
       "      <td>83.169091</td>\n",
       "      <td>1.046880</td>\n",
       "      <td>81.699877</td>\n",
       "    </tr>\n",
       "    <tr>\n",
       "      <th>140</th>\n",
       "      <td>8</td>\n",
       "      <td>2013</td>\n",
       "      <td>80.9</td>\n",
       "      <td>79.444692</td>\n",
       "      <td>76.317273</td>\n",
       "      <td>0.960634</td>\n",
       "      <td>84.215216</td>\n",
       "    </tr>\n",
       "    <tr>\n",
       "      <th>141</th>\n",
       "      <td>9</td>\n",
       "      <td>2013</td>\n",
       "      <td>82.77</td>\n",
       "      <td>79.444692</td>\n",
       "      <td>79.410909</td>\n",
       "      <td>0.999575</td>\n",
       "      <td>82.805212</td>\n",
       "    </tr>\n",
       "    <tr>\n",
       "      <th>142</th>\n",
       "      <td>10</td>\n",
       "      <td>2013</td>\n",
       "      <td>NaN</td>\n",
       "      <td>79.444692</td>\n",
       "      <td>77.834000</td>\n",
       "      <td>0.979726</td>\n",
       "      <td>NaN</td>\n",
       "    </tr>\n",
       "    <tr>\n",
       "      <th>143</th>\n",
       "      <td>11</td>\n",
       "      <td>2013</td>\n",
       "      <td>NaN</td>\n",
       "      <td>79.444692</td>\n",
       "      <td>77.578000</td>\n",
       "      <td>0.976503</td>\n",
       "      <td>NaN</td>\n",
       "    </tr>\n",
       "  </tbody>\n",
       "</table>\n",
       "</div>"
      ],
      "text/plain": [
       "     month  year   load        avg  month_avg  Monthly_Factor    de_load\n",
       "139      7  2013  85.53  79.444692  83.169091        1.046880  81.699877\n",
       "140      8  2013   80.9  79.444692  76.317273        0.960634  84.215216\n",
       "141      9  2013  82.77  79.444692  79.410909        0.999575  82.805212\n",
       "142     10  2013    NaN  79.444692  77.834000        0.979726        NaN\n",
       "143     11  2013    NaN  79.444692  77.578000        0.976503        NaN"
      ]
     },
     "execution_count": 34,
     "metadata": {},
     "output_type": "execute_result"
    }
   ],
   "source": [
    "# calculate sample average\n",
    "dfairline[\"avg\"] = dfairline.load.dropna().mean()\n",
    "dfairline[\"avg\"] \n",
    "#Monthly average\n",
    "dfairline[\"month_avg\"] = pd.to_numeric(dfairline['load']).groupby(dfairline['month']).transform(\"mean\")\n",
    "dfairline[\"month_avg\"]\n",
    "#Monthly factor\n",
    "dfairline['Monthly_Factor'] = dfairline[\"month_avg\"] / dfairline[\"avg\"] \n",
    "dfairline['Monthly_Factor']\n",
    "#de-sesonalized series\n",
    "dfairline[\"de_load\"] = dfairline.load / dfairline.Monthly_Factor\n",
    "dfairline.tail(5)"
   ]
  },
  {
   "cell_type": "markdown",
   "id": "52e84c55",
   "metadata": {},
   "source": [
    "#### Answer: When comparing the de-seasonalized data to the original data, we observed that the de-seasonalized data appeared to have less seasonality, with a smoother overall trend. This suggests that the seasonal component of the data was effectively removed, which may improve the accuracy of our forecasting models."
   ]
  },
  {
   "cell_type": "markdown",
   "id": "ac87a9ff",
   "metadata": {},
   "source": [
    "## b. Test for non-stationarity"
   ]
  },
  {
   "cell_type": "code",
   "execution_count": 6,
   "id": "470fd481",
   "metadata": {},
   "outputs": [
    {
     "name": "stdout",
     "output_type": "stream",
     "text": [
      "ADF Statistic: -3.194312\n",
      "p-value: 0.020316\n"
     ]
    }
   ],
   "source": [
    "# Adfuller\n",
    "from statsmodels.tsa.stattools import adfuller\n",
    "ad_result = adfuller(dfairline.de_load.dropna())\n",
    "print('ADF Statistic: %f' % ad_result[0])\n",
    "print('p-value: %f' % ad_result[1])"
   ]
  },
  {
   "cell_type": "markdown",
   "id": "c375f9cf",
   "metadata": {},
   "source": [
    "#### Since p-value(0.020316) smaller than 0.05, we reject null hypothesis that states time series is non-stationary."
   ]
  },
  {
   "cell_type": "markdown",
   "id": "7829715a",
   "metadata": {},
   "source": [
    "##### We are using SES and MA for this question, since we removed seasonality from series before."
   ]
  },
  {
   "cell_type": "code",
   "execution_count": 479,
   "id": "213bfbbe",
   "metadata": {},
   "outputs": [
    {
     "data": {
      "text/plain": [
       "(132, 7)"
      ]
     },
     "execution_count": 479,
     "metadata": {},
     "output_type": "execute_result"
    }
   ],
   "source": [
    "dfairline.shape"
   ]
  },
  {
   "cell_type": "code",
   "execution_count": null,
   "id": "5a3b93c2",
   "metadata": {},
   "outputs": [],
   "source": []
  },
  {
   "cell_type": "code",
   "execution_count": 35,
   "id": "58443cf5",
   "metadata": {},
   "outputs": [
    {
     "name": "stdout",
     "output_type": "stream",
     "text": [
      "[0.1, 2.6926114512042774]\n",
      "[0.2, 2.014251547864466]\n",
      "[0.30000000000000004, 1.8607237497506601]\n",
      "[0.4, 1.797861781926179]\n",
      "[0.5, 1.773164435816034]\n",
      "[0.6, 1.7784138463803563]\n",
      "[0.7000000000000001, 1.8114733208093876]\n",
      "[0.8, 1.8714705618595318]\n",
      "[0.9, 1.9593665610053006]\n",
      "[1.0, 2.0794061077383263]\n"
     ]
    }
   ],
   "source": [
    "#SES\n",
    "import numpy as np\n",
    "for alpha in np.arange(0.1, 1.1, 0.1):\n",
    "    print([alpha, mean_squared_error(dfairline.de_load[:-2].astype('float'),\n",
    "                                     ExponentialSmoothing(dfairline.de_load[:-2].astype('float'), \n",
    "                                                          initialization_method\n",
    "                                                                            ='estimated').fit(smoothing_level\n",
    "                                                                                              = alpha).predict(0,129))])\n",
    "#### alpha = 0.5 has the smallest MSE which is 1.7731\n"
   ]
  },
  {
   "cell_type": "code",
   "execution_count": 39,
   "id": "42671a46",
   "metadata": {},
   "outputs": [
    {
     "data": {
      "text/plain": [
       "129          NaN\n",
       "130          NaN\n",
       "131          NaN\n",
       "132          NaN\n",
       "133          NaN\n",
       "134          NaN\n",
       "135          NaN\n",
       "136          NaN\n",
       "137          NaN\n",
       "138          NaN\n",
       "139          NaN\n",
       "140          NaN\n",
       "141          NaN\n",
       "142    82.877329\n",
       "143    82.877329\n",
       "Name: ses, dtype: float64"
      ]
     },
     "execution_count": 39,
     "metadata": {},
     "output_type": "execute_result"
    }
   ],
   "source": [
    "dfairline.loc[129:, 'ses'] = ExponentialSmoothing(dfairline.de_load[:-2].astype('float'),\n",
    "                                                 initialization_method='estimated').fit(smoothing_level \n",
    "                                                                                        = 0.5).forecast(2)\n",
    "dfairline.loc[129:, 'ses']"
   ]
  },
  {
   "cell_type": "code",
   "execution_count": 37,
   "id": "530182ff",
   "metadata": {},
   "outputs": [
    {
     "name": "stdout",
     "output_type": "stream",
     "text": [
      "[1, 2.122028293186414]\n",
      "[2, 1.9396693859812697]\n",
      "[3, 2.0464728995430366]\n",
      "[4, 1.999502009897671]\n",
      "[5, 2.203803784046814]\n",
      "     month  year   load        avg  month_avg  Monthly_Factor    de_load  \\\n",
      "141      9  2013  82.77  79.444692  79.410909        0.999575  82.805212   \n",
      "142     10  2013    NaN  79.444692  77.834000        0.979726        NaN   \n",
      "143     11  2013    NaN  79.444692  77.578000        0.976503        NaN   \n",
      "\n",
      "           ses         ma  \n",
      "141        NaN  83.510214  \n",
      "142  82.877329  83.510214  \n",
      "143  82.877329  83.510214  \n"
     ]
    }
   ],
   "source": [
    "#MA: forecast of the last two months in December 2013\n",
    "for index in range(1,6):\n",
    "    print([index,mean_squared_error(dfairline.de_load[5:130], \n",
    "                                    dfairline[\"de_load\"].rolling(index).mean()[4:129])])\n",
    "    \n",
    "\n",
    "dfairline.loc[130:, 'ma'] = dfairline[\"de_load\"][:130].rolling(2).mean().iloc[-1]\n",
    "\n",
    "print(dfairline[-3:])\n"
   ]
  },
  {
   "cell_type": "code",
   "execution_count": 46,
   "id": "7de91695",
   "metadata": {},
   "outputs": [
    {
     "name": "stdout",
     "output_type": "stream",
     "text": [
      "MA of 10th month after scale back:81.817127921364 \n",
      "MA of 11th month after scale back:81.547974501642 \n",
      "SES of 10th month after scale back:81.197074031854 \n",
      "SES of 11th month after scale back:80.929960400487 \n"
     ]
    }
   ],
   "source": [
    "#Under MA scale back (10 = 0.979726; 11 = 0.976503)\n",
    "M10 = 83.510214 * 0.979726\n",
    "M11 = 83.510214 * 0.976503\n",
    "print('MA of 10th month after scale back:{:5} ' .format(M10))\n",
    "print('MA of 11th month after scale back:{:5} ' .format(M11))\n",
    "\n",
    "#Under SES scale back (10 = 0.979726; 11 = 0.976503)\n",
    "SES10 = 82.877329 * 0.979726\n",
    "SES11 = 82.877329 * 0.976503\n",
    "print('SES of 10th month after scale back:{:5} ' .format(SES10))\n",
    "print('SES of 11th month after scale back:{:5} ' .format(SES11))"
   ]
  }
 ],
 "metadata": {
  "kernelspec": {
   "display_name": "Python 3 (ipykernel)",
   "language": "python",
   "name": "python3"
  },
  "language_info": {
   "codemirror_mode": {
    "name": "ipython",
    "version": 3
   },
   "file_extension": ".py",
   "mimetype": "text/x-python",
   "name": "python",
   "nbconvert_exporter": "python",
   "pygments_lexer": "ipython3",
   "version": "3.9.12"
  }
 },
 "nbformat": 4,
 "nbformat_minor": 5
}
