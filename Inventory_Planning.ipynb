{
 "cells": [
  {
   "cell_type": "markdown",
   "id": "188ecd3a",
   "metadata": {},
   "source": [
    "## Part I: Inventory & Capacity Planning\n",
    "## Hyatt’s Problem (Overbooking level optimization)"
   ]
  },
  {
   "cell_type": "code",
   "execution_count": 1,
   "id": "43afd52f",
   "metadata": {},
   "outputs": [
    {
     "data": {
      "text/html": [
       "<div>\n",
       "<style scoped>\n",
       "    .dataframe tbody tr th:only-of-type {\n",
       "        vertical-align: middle;\n",
       "    }\n",
       "\n",
       "    .dataframe tbody tr th {\n",
       "        vertical-align: top;\n",
       "    }\n",
       "\n",
       "    .dataframe thead th {\n",
       "        text-align: right;\n",
       "    }\n",
       "</style>\n",
       "<table border=\"1\" class=\"dataframe\">\n",
       "  <thead>\n",
       "    <tr style=\"text-align: right;\">\n",
       "      <th></th>\n",
       "      <th>no_show</th>\n",
       "      <th>overbook_level</th>\n",
       "      <th>net_rooms</th>\n",
       "      <th>room_rev</th>\n",
       "      <th>denials</th>\n",
       "      <th>denial_cost</th>\n",
       "      <th>empty rooms</th>\n",
       "      <th>opportunity cost</th>\n",
       "      <th>profit</th>\n",
       "    </tr>\n",
       "  </thead>\n",
       "  <tbody>\n",
       "    <tr>\n",
       "      <th>505</th>\n",
       "      <td>-1.0</td>\n",
       "      <td>14</td>\n",
       "      <td>100.0</td>\n",
       "      <td>15000.0</td>\n",
       "      <td>15.0</td>\n",
       "      <td>375.0</td>\n",
       "      <td>0.0</td>\n",
       "      <td>0.0</td>\n",
       "      <td>14625.0</td>\n",
       "    </tr>\n",
       "    <tr>\n",
       "      <th>1156</th>\n",
       "      <td>1.0</td>\n",
       "      <td>14</td>\n",
       "      <td>100.0</td>\n",
       "      <td>15000.0</td>\n",
       "      <td>13.0</td>\n",
       "      <td>325.0</td>\n",
       "      <td>0.0</td>\n",
       "      <td>0.0</td>\n",
       "      <td>14675.0</td>\n",
       "    </tr>\n",
       "    <tr>\n",
       "      <th>2531</th>\n",
       "      <td>1.0</td>\n",
       "      <td>14</td>\n",
       "      <td>100.0</td>\n",
       "      <td>15000.0</td>\n",
       "      <td>13.0</td>\n",
       "      <td>325.0</td>\n",
       "      <td>0.0</td>\n",
       "      <td>0.0</td>\n",
       "      <td>14675.0</td>\n",
       "    </tr>\n",
       "    <tr>\n",
       "      <th>3858</th>\n",
       "      <td>2.0</td>\n",
       "      <td>14</td>\n",
       "      <td>100.0</td>\n",
       "      <td>15000.0</td>\n",
       "      <td>12.0</td>\n",
       "      <td>300.0</td>\n",
       "      <td>0.0</td>\n",
       "      <td>0.0</td>\n",
       "      <td>14700.0</td>\n",
       "    </tr>\n",
       "    <tr>\n",
       "      <th>3414</th>\n",
       "      <td>2.0</td>\n",
       "      <td>14</td>\n",
       "      <td>100.0</td>\n",
       "      <td>15000.0</td>\n",
       "      <td>12.0</td>\n",
       "      <td>300.0</td>\n",
       "      <td>0.0</td>\n",
       "      <td>0.0</td>\n",
       "      <td>14700.0</td>\n",
       "    </tr>\n",
       "    <tr>\n",
       "      <th>...</th>\n",
       "      <td>...</td>\n",
       "      <td>...</td>\n",
       "      <td>...</td>\n",
       "      <td>...</td>\n",
       "      <td>...</td>\n",
       "      <td>...</td>\n",
       "      <td>...</td>\n",
       "      <td>...</td>\n",
       "      <td>...</td>\n",
       "    </tr>\n",
       "    <tr>\n",
       "      <th>2083</th>\n",
       "      <td>14.0</td>\n",
       "      <td>14</td>\n",
       "      <td>100.0</td>\n",
       "      <td>15000.0</td>\n",
       "      <td>0.0</td>\n",
       "      <td>0.0</td>\n",
       "      <td>0.0</td>\n",
       "      <td>0.0</td>\n",
       "      <td>15000.0</td>\n",
       "    </tr>\n",
       "    <tr>\n",
       "      <th>1441</th>\n",
       "      <td>14.0</td>\n",
       "      <td>14</td>\n",
       "      <td>100.0</td>\n",
       "      <td>15000.0</td>\n",
       "      <td>0.0</td>\n",
       "      <td>0.0</td>\n",
       "      <td>0.0</td>\n",
       "      <td>0.0</td>\n",
       "      <td>15000.0</td>\n",
       "    </tr>\n",
       "    <tr>\n",
       "      <th>3135</th>\n",
       "      <td>14.0</td>\n",
       "      <td>14</td>\n",
       "      <td>100.0</td>\n",
       "      <td>15000.0</td>\n",
       "      <td>0.0</td>\n",
       "      <td>0.0</td>\n",
       "      <td>0.0</td>\n",
       "      <td>0.0</td>\n",
       "      <td>15000.0</td>\n",
       "    </tr>\n",
       "    <tr>\n",
       "      <th>2841</th>\n",
       "      <td>14.0</td>\n",
       "      <td>14</td>\n",
       "      <td>100.0</td>\n",
       "      <td>15000.0</td>\n",
       "      <td>0.0</td>\n",
       "      <td>0.0</td>\n",
       "      <td>0.0</td>\n",
       "      <td>0.0</td>\n",
       "      <td>15000.0</td>\n",
       "    </tr>\n",
       "    <tr>\n",
       "      <th>4298</th>\n",
       "      <td>14.0</td>\n",
       "      <td>14</td>\n",
       "      <td>100.0</td>\n",
       "      <td>15000.0</td>\n",
       "      <td>0.0</td>\n",
       "      <td>0.0</td>\n",
       "      <td>0.0</td>\n",
       "      <td>0.0</td>\n",
       "      <td>15000.0</td>\n",
       "    </tr>\n",
       "  </tbody>\n",
       "</table>\n",
       "<p>5000 rows × 9 columns</p>\n",
       "</div>"
      ],
      "text/plain": [
       "      no_show  overbook_level  net_rooms  room_rev  denials  denial_cost  \\\n",
       "505      -1.0              14      100.0   15000.0     15.0        375.0   \n",
       "1156      1.0              14      100.0   15000.0     13.0        325.0   \n",
       "2531      1.0              14      100.0   15000.0     13.0        325.0   \n",
       "3858      2.0              14      100.0   15000.0     12.0        300.0   \n",
       "3414      2.0              14      100.0   15000.0     12.0        300.0   \n",
       "...       ...             ...        ...       ...      ...          ...   \n",
       "2083     14.0              14      100.0   15000.0      0.0          0.0   \n",
       "1441     14.0              14      100.0   15000.0      0.0          0.0   \n",
       "3135     14.0              14      100.0   15000.0      0.0          0.0   \n",
       "2841     14.0              14      100.0   15000.0      0.0          0.0   \n",
       "4298     14.0              14      100.0   15000.0      0.0          0.0   \n",
       "\n",
       "      empty rooms  opportunity cost   profit  \n",
       "505           0.0               0.0  14625.0  \n",
       "1156          0.0               0.0  14675.0  \n",
       "2531          0.0               0.0  14675.0  \n",
       "3858          0.0               0.0  14700.0  \n",
       "3414          0.0               0.0  14700.0  \n",
       "...           ...               ...      ...  \n",
       "2083          0.0               0.0  15000.0  \n",
       "1441          0.0               0.0  15000.0  \n",
       "3135          0.0               0.0  15000.0  \n",
       "2841          0.0               0.0  15000.0  \n",
       "4298          0.0               0.0  15000.0  \n",
       "\n",
       "[5000 rows x 9 columns]"
      ]
     },
     "execution_count": 1,
     "metadata": {},
     "output_type": "execute_result"
    },
    {
     "data": {
      "image/png": "[encoded data removed]",
      "text/plain": [
       "<Figure size 432x288 with 1 Axes>"
      ]
     },
     "metadata": {
      "needs_background": "light"
     },
     "output_type": "display_data"
    }
   ],
   "source": [
    "# input parameters\n",
    "capacity = 100\n",
    "room_price = 150\n",
    "voucher = 25\n",
    "no_show_mean = 8\n",
    "no_show_sd = 2\n",
    "simulation_run = 5000\n",
    "\n",
    "# simulate the number of noshows\n",
    "import pandas as pd\n",
    "import numpy as np\n",
    "df_no_show = pd.DataFrame({'no_show' : np.random.normal(no_show_mean,no_show_sd,simulation_run).round()})\n",
    "df_no_show.plot.hist(bins=range(1, 15))\n",
    "\n",
    "# as a rule of thumb, try the overbooking number between\n",
    "# mean - 3SD, mean + 3SD\n",
    "df_optimize = pd.DataFrame({'overbook_level' : np.arange(2,15)})\n",
    "\n",
    "# use a loop to try different order levels and compute average profit\n",
    "for i in np.arange(0,df_optimize.shape[0]):\n",
    "    df_no_show['overbook_level'] = df_optimize.overbook_level[i]\n",
    "    df_no_show['net_rooms'] = (capacity + df_optimize.overbook_level[i] - df_no_show.no_show).clip(upper=capacity)\n",
    "    df_no_show['room_rev'] = df_no_show['net_rooms']*room_price\n",
    "    df_no_show['denials'] = (df_optimize.overbook_level[i] - df_no_show.no_show).clip(lower=0)\n",
    "    df_no_show['denial_cost'] = df_no_show['denials']*voucher\n",
    "    # If calculated revenue at 100 capacity, instead of 'net_rooms', need to account separately for opportunity cost\n",
    "    df_no_show['empty rooms'] = (df_no_show.no_show - df_optimize.overbook_level[i]).clip(lower=0)\n",
    "    df_no_show['opportunity cost'] =  df_no_show['empty rooms']*room_price\n",
    "    df_no_show['profit'] = df_no_show['room_rev'] - df_no_show['denial_cost'] - df_no_show['opportunity cost']\n",
    "    df_optimize.loc[i,'avg_profit'] = df_no_show.profit.mean()\n",
    "    df_optimize.loc[i,'sd_profit'] = df_no_show.profit.std()\n",
    "\n",
    "# verify intermediate calculations done as expected     \n",
    "df_no_show.sort_values('profit')   "
   ]
  },
  {
   "cell_type": "code",
   "execution_count": 2,
   "id": "921dca5e",
   "metadata": {},
   "outputs": [
    {
     "data": {
      "text/html": [
       "<div>\n",
       "<style scoped>\n",
       "    .dataframe tbody tr th:only-of-type {\n",
       "        vertical-align: middle;\n",
       "    }\n",
       "\n",
       "    .dataframe tbody tr th {\n",
       "        vertical-align: top;\n",
       "    }\n",
       "\n",
       "    .dataframe thead th {\n",
       "        text-align: right;\n",
       "    }\n",
       "</style>\n",
       "<table border=\"1\" class=\"dataframe\">\n",
       "  <thead>\n",
       "    <tr style=\"text-align: right;\">\n",
       "      <th></th>\n",
       "      <th>overbook_level</th>\n",
       "      <th>avg_profit</th>\n",
       "      <th>sd_profit</th>\n",
       "    </tr>\n",
       "  </thead>\n",
       "  <tbody>\n",
       "    <tr>\n",
       "      <th>9</th>\n",
       "      <td>11</td>\n",
       "      <td>14906.925</td>\n",
       "      <td>88.845360</td>\n",
       "    </tr>\n",
       "    <tr>\n",
       "      <th>8</th>\n",
       "      <td>10</td>\n",
       "      <td>14899.360</td>\n",
       "      <td>148.339109</td>\n",
       "    </tr>\n",
       "    <tr>\n",
       "      <th>10</th>\n",
       "      <td>12</td>\n",
       "      <td>14894.470</td>\n",
       "      <td>59.166031</td>\n",
       "    </tr>\n",
       "    <tr>\n",
       "      <th>11</th>\n",
       "      <td>13</td>\n",
       "      <td>14873.630</td>\n",
       "      <td>50.922900</td>\n",
       "    </tr>\n",
       "    <tr>\n",
       "      <th>7</th>\n",
       "      <td>9</td>\n",
       "      <td>14850.650</td>\n",
       "      <td>236.396921</td>\n",
       "    </tr>\n",
       "    <tr>\n",
       "      <th>12</th>\n",
       "      <td>14</td>\n",
       "      <td>14849.605</td>\n",
       "      <td>50.313768</td>\n",
       "    </tr>\n",
       "    <tr>\n",
       "      <th>6</th>\n",
       "      <td>8</td>\n",
       "      <td>14744.350</td>\n",
       "      <td>341.351918</td>\n",
       "    </tr>\n",
       "    <tr>\n",
       "      <th>5</th>\n",
       "      <td>7</td>\n",
       "      <td>14576.690</td>\n",
       "      <td>443.529861</td>\n",
       "    </tr>\n",
       "    <tr>\n",
       "      <th>4</th>\n",
       "      <td>6</td>\n",
       "      <td>14352.155</td>\n",
       "      <td>522.581907</td>\n",
       "    </tr>\n",
       "    <tr>\n",
       "      <th>3</th>\n",
       "      <td>5</td>\n",
       "      <td>14086.735</td>\n",
       "      <td>570.403135</td>\n",
       "    </tr>\n",
       "    <tr>\n",
       "      <th>2</th>\n",
       "      <td>4</td>\n",
       "      <td>13799.215</td>\n",
       "      <td>592.620451</td>\n",
       "    </tr>\n",
       "    <tr>\n",
       "      <th>1</th>\n",
       "      <td>3</td>\n",
       "      <td>13502.855</td>\n",
       "      <td>600.728848</td>\n",
       "    </tr>\n",
       "    <tr>\n",
       "      <th>0</th>\n",
       "      <td>2</td>\n",
       "      <td>13203.635</td>\n",
       "      <td>602.834010</td>\n",
       "    </tr>\n",
       "  </tbody>\n",
       "</table>\n",
       "</div>"
      ],
      "text/plain": [
       "    overbook_level  avg_profit   sd_profit\n",
       "9               11   14906.925   88.845360\n",
       "8               10   14899.360  148.339109\n",
       "10              12   14894.470   59.166031\n",
       "11              13   14873.630   50.922900\n",
       "7                9   14850.650  236.396921\n",
       "12              14   14849.605   50.313768\n",
       "6                8   14744.350  341.351918\n",
       "5                7   14576.690  443.529861\n",
       "4                6   14352.155  522.581907\n",
       "3                5   14086.735  570.403135\n",
       "2                4   13799.215  592.620451\n",
       "1                3   13502.855  600.728848\n",
       "0                2   13203.635  602.834010"
      ]
     },
     "execution_count": 2,
     "metadata": {},
     "output_type": "execute_result"
    }
   ],
   "source": [
    "# verify that avg_profit, sd_profit calculated and stored as expected\n",
    "df_optimize.sort_values(\"avg_profit\", ascending=False)"
   ]
  },
  {
   "cell_type": "code",
   "execution_count": 3,
   "id": "8bf748bf",
   "metadata": {},
   "outputs": [
    {
     "data": {
      "text/plain": [
       "[Text(0, 0.5, 'Expected Profit (avg_profit)'),\n",
       " Text(0.5, 0, 'Uncertainty (sd_profit)')]"
      ]
     },
     "execution_count": 3,
     "metadata": {},
     "output_type": "execute_result"
    },
    {
     "data": {
      "image/png": "[encoded data removed]",
      "text/plain": [
       "<Figure size 432x288 with 1 Axes>"
      ]
     },
     "metadata": {
      "needs_background": "light"
     },
     "output_type": "display_data"
    },
    {
     "data": {
      "image/png": "[encoded data removed]",
      "text/plain": [
       "<Figure size 432x288 with 1 Axes>"
      ]
     },
     "metadata": {
      "needs_background": "light"
     },
     "output_type": "display_data"
    },
    {
     "data": {
      "image/png": "[encoded data removed]",
      "text/plain": [
       "<Figure size 432x288 with 1 Axes>"
      ]
     },
     "metadata": {
      "needs_background": "light"
     },
     "output_type": "display_data"
    }
   ],
   "source": [
    "# relationship between avg and sd of profit with order level\n",
    "df_optimize.plot.scatter(x='overbook_level',y='avg_profit',xticks=range(1, 15))\n",
    "df_optimize.plot.scatter(x='overbook_level',y='sd_profit',xticks=range(1, 15))\n",
    "\n",
    "# profit risk: efficiency frontier\n",
    "df_optimize.plot.scatter(y='avg_profit',x='sd_profit').set(ylabel=\"Expected Profit (avg_profit)\", xlabel=\"Uncertainty (sd_profit)\")"
   ]
  },
  {
   "cell_type": "markdown",
   "id": "26aae1a8",
   "metadata": {},
   "source": [
    "### Answer: Overbooking level is 11, profit estimates is 14906.310 dollars."
   ]
  },
  {
   "cell_type": "markdown",
   "id": "8ad9d22c",
   "metadata": {},
   "source": [
    "## Part2 The Parka Problem (Inventory level optimization)"
   ]
  },
  {
   "cell_type": "code",
   "execution_count": 11,
   "id": "cc800c19",
   "metadata": {},
   "outputs": [],
   "source": [
    "# set input parameters\n",
    "demand_mean = 26\n",
    "demand_sd = 3\n",
    "simulation_run = 5000\n",
    "Procurement_cost = 70\n",
    "Original_price = 140\n",
    "Markdown_price = 40"
   ]
  },
  {
   "cell_type": "code",
   "execution_count": 12,
   "id": "02b1f681",
   "metadata": {},
   "outputs": [
    {
     "data": {
      "text/plain": [
       "<AxesSubplot:ylabel='Frequency'>"
      ]
     },
     "execution_count": 12,
     "metadata": {},
     "output_type": "execute_result"
    },
    {
     "data": {
      "image/png": "[encoded data removed]",
      "text/plain": [
       "<Figure size 432x288 with 1 Axes>"
      ]
     },
     "metadata": {
      "needs_background": "light"
     },
     "output_type": "display_data"
    }
   ],
   "source": [
    "# numpy.random.seed(12345)\n",
    "df_order = pd.DataFrame({'demand' : \n",
    "                           np.random.normal(demand_mean,demand_sd,\n",
    "                                            simulation_run).round()})\n",
    "df_order\n",
    "#np.random.normal(10,5,50).std()\n",
    "df_order.demand.plot.hist(bins=range(16,36))"
   ]
  },
  {
   "cell_type": "code",
   "execution_count": 13,
   "id": "4c2b59b5",
   "metadata": {},
   "outputs": [],
   "source": [
    "# as a rule of thumb, try protection levels between\n",
    "# mean - 3SD, mean + 3SD\n",
    "# 26-3*3, 26+3*3\n",
    "df_optimize1 = pd.DataFrame({'order_level' : np.arange(17,36)})"
   ]
  },
  {
   "cell_type": "code",
   "execution_count": 15,
   "id": "a7d7d47d",
   "metadata": {},
   "outputs": [],
   "source": [
    "# use a loop to try different protection levels and compute average profit\n",
    "for i in np.arange(0,df_optimize1.shape[0]):\n",
    "    df_order['order_level'] = df_optimize1.order_level[i]\n",
    "    df_order['original_sales'] = df_order.demand.clip(upper=df_optimize1.order_level[i])\n",
    "    df_order['original_revenue'] = df_order.original_sales*Original_price\n",
    "    df_order['left_sales'] = df_optimize1.order_level[i] - df_order.original_sales\n",
    "    df_order['left_profit'] = df_order.left_sales*Markdown_price\n",
    "    df_order['profit'] = df_order.original_revenue + df_order.left_profit - df_optimize1.order_level[i] * Procurement_cost\n",
    "    df_optimize1.loc[i,'avg_profit'] =df_order.profit.mean()\n",
    "    df_optimize1.loc[i,'sd_profit'] = df_order.profit.std()"
   ]
  },
  {
   "cell_type": "code",
   "execution_count": 16,
   "id": "c0f24eda",
   "metadata": {},
   "outputs": [
    {
     "data": {
      "text/html": [
       "<div>\n",
       "<style scoped>\n",
       "    .dataframe tbody tr th:only-of-type {\n",
       "        vertical-align: middle;\n",
       "    }\n",
       "\n",
       "    .dataframe tbody tr th {\n",
       "        vertical-align: top;\n",
       "    }\n",
       "\n",
       "    .dataframe thead th {\n",
       "        text-align: right;\n",
       "    }\n",
       "</style>\n",
       "<table border=\"1\" class=\"dataframe\">\n",
       "  <thead>\n",
       "    <tr style=\"text-align: right;\">\n",
       "      <th></th>\n",
       "      <th>order_level</th>\n",
       "      <th>avg_profit</th>\n",
       "      <th>sd_profit</th>\n",
       "    </tr>\n",
       "  </thead>\n",
       "  <tbody>\n",
       "    <tr>\n",
       "      <th>11</th>\n",
       "      <td>28</td>\n",
       "      <td>1714.08</td>\n",
       "      <td>238.081268</td>\n",
       "    </tr>\n",
       "    <tr>\n",
       "      <th>10</th>\n",
       "      <td>27</td>\n",
       "      <td>1713.12</td>\n",
       "      <td>208.782623</td>\n",
       "    </tr>\n",
       "    <tr>\n",
       "      <th>12</th>\n",
       "      <td>29</td>\n",
       "      <td>1704.48</td>\n",
       "      <td>261.423790</td>\n",
       "    </tr>\n",
       "    <tr>\n",
       "      <th>9</th>\n",
       "      <td>26</td>\n",
       "      <td>1700.14</td>\n",
       "      <td>175.595408</td>\n",
       "    </tr>\n",
       "    <tr>\n",
       "      <th>13</th>\n",
       "      <td>30</td>\n",
       "      <td>1686.46</td>\n",
       "      <td>277.845475</td>\n",
       "    </tr>\n",
       "    <tr>\n",
       "      <th>8</th>\n",
       "      <td>25</td>\n",
       "      <td>1673.96</td>\n",
       "      <td>140.804416</td>\n",
       "    </tr>\n",
       "    <tr>\n",
       "      <th>14</th>\n",
       "      <td>31</td>\n",
       "      <td>1662.50</td>\n",
       "      <td>287.684380</td>\n",
       "    </tr>\n",
       "    <tr>\n",
       "      <th>15</th>\n",
       "      <td>32</td>\n",
       "      <td>1635.74</td>\n",
       "      <td>293.879440</td>\n",
       "    </tr>\n",
       "    <tr>\n",
       "      <th>7</th>\n",
       "      <td>24</td>\n",
       "      <td>1634.98</td>\n",
       "      <td>107.114398</td>\n",
       "    </tr>\n",
       "    <tr>\n",
       "      <th>16</th>\n",
       "      <td>33</td>\n",
       "      <td>1607.46</td>\n",
       "      <td>297.679813</td>\n",
       "    </tr>\n",
       "    <tr>\n",
       "      <th>6</th>\n",
       "      <td>23</td>\n",
       "      <td>1585.76</td>\n",
       "      <td>77.366786</td>\n",
       "    </tr>\n",
       "    <tr>\n",
       "      <th>17</th>\n",
       "      <td>34</td>\n",
       "      <td>1578.10</td>\n",
       "      <td>299.293009</td>\n",
       "    </tr>\n",
       "    <tr>\n",
       "      <th>18</th>\n",
       "      <td>35</td>\n",
       "      <td>1548.36</td>\n",
       "      <td>300.032189</td>\n",
       "    </tr>\n",
       "    <tr>\n",
       "      <th>5</th>\n",
       "      <td>22</td>\n",
       "      <td>1528.04</td>\n",
       "      <td>53.004908</td>\n",
       "    </tr>\n",
       "    <tr>\n",
       "      <th>4</th>\n",
       "      <td>21</td>\n",
       "      <td>1464.76</td>\n",
       "      <td>34.709989</td>\n",
       "    </tr>\n",
       "    <tr>\n",
       "      <th>3</th>\n",
       "      <td>20</td>\n",
       "      <td>1397.66</td>\n",
       "      <td>21.647589</td>\n",
       "    </tr>\n",
       "    <tr>\n",
       "      <th>2</th>\n",
       "      <td>19</td>\n",
       "      <td>1329.08</td>\n",
       "      <td>12.131902</td>\n",
       "    </tr>\n",
       "    <tr>\n",
       "      <th>1</th>\n",
       "      <td>18</td>\n",
       "      <td>1259.78</td>\n",
       "      <td>5.827383</td>\n",
       "    </tr>\n",
       "    <tr>\n",
       "      <th>0</th>\n",
       "      <td>17</td>\n",
       "      <td>1189.94</td>\n",
       "      <td>2.449000</td>\n",
       "    </tr>\n",
       "  </tbody>\n",
       "</table>\n",
       "</div>"
      ],
      "text/plain": [
       "    order_level  avg_profit   sd_profit\n",
       "11           28     1714.08  238.081268\n",
       "10           27     1713.12  208.782623\n",
       "12           29     1704.48  261.423790\n",
       "9            26     1700.14  175.595408\n",
       "13           30     1686.46  277.845475\n",
       "8            25     1673.96  140.804416\n",
       "14           31     1662.50  287.684380\n",
       "15           32     1635.74  293.879440\n",
       "7            24     1634.98  107.114398\n",
       "16           33     1607.46  297.679813\n",
       "6            23     1585.76   77.366786\n",
       "17           34     1578.10  299.293009\n",
       "18           35     1548.36  300.032189\n",
       "5            22     1528.04   53.004908\n",
       "4            21     1464.76   34.709989\n",
       "3            20     1397.66   21.647589\n",
       "2            19     1329.08   12.131902\n",
       "1            18     1259.78    5.827383\n",
       "0            17     1189.94    2.449000"
      ]
     },
     "execution_count": 16,
     "metadata": {},
     "output_type": "execute_result"
    }
   ],
   "source": [
    "df_optimize1.sort_values('avg_profit', ascending = False)"
   ]
  },
  {
   "cell_type": "code",
   "execution_count": 18,
   "id": "87853a26",
   "metadata": {},
   "outputs": [
    {
     "data": {
      "text/plain": [
       "<AxesSubplot:xlabel='order_level', ylabel='sd_profit'>"
      ]
     },
     "execution_count": 18,
     "metadata": {},
     "output_type": "execute_result"
    },
    {
     "data": {
      "image/png": "[encoded data removed]",
      "text/plain": [
       "<Figure size 432x288 with 1 Axes>"
      ]
     },
     "metadata": {
      "needs_background": "light"
     },
     "output_type": "display_data"
    },
    {
     "data": {
      "image/png": "[encoded data removed]",
      "text/plain": [
       "<Figure size 432x288 with 1 Axes>"
      ]
     },
     "metadata": {
      "needs_background": "light"
     },
     "output_type": "display_data"
    }
   ],
   "source": [
    "# relationship between avg and sd of profit with protection level\n",
    "df_optimize1.plot.scatter(x='order_level',y='avg_profit',xticks=range(16,36))\n",
    "df_optimize1.plot.scatter(x='order_level',y='sd_profit',xticks=range(16,36))"
   ]
  },
  {
   "cell_type": "code",
   "execution_count": 19,
   "id": "9477cb24",
   "metadata": {},
   "outputs": [
    {
     "data": {
      "text/plain": [
       "[Text(0, 0.5, 'Expected Profit (avg_profit)'),\n",
       " Text(0.5, 0, 'Uncertainty (sd_profit)')]"
      ]
     },
     "execution_count": 19,
     "metadata": {},
     "output_type": "execute_result"
    },
    {
     "data": {
      "image/png": "[encoded data removed]",
      "text/plain": [
       "<Figure size 432x288 with 1 Axes>"
      ]
     },
     "metadata": {
      "needs_background": "light"
     },
     "output_type": "display_data"
    }
   ],
   "source": [
    "# profit risk: efficiency frontier\n",
    "df_optimize1.plot.scatter(y='avg_profit',x='sd_profit').set(ylabel=\"Expected Profit (avg_profit)\", xlabel=\"Uncertainty (sd_profit)\")\n"
   ]
  },
  {
   "cell_type": "markdown",
   "id": "bc8f6d94",
   "metadata": {},
   "source": [
    "### Answer: L.L. Bean should purchase 28 jackets from its supplier. Maximum expected profit is 1714.08.032."
   ]
  }
 ],
 "metadata": {
  "kernelspec": {
   "display_name": "Python 3 (ipykernel)",
   "language": "python",
   "name": "python3"
  },
  "language_info": {
   "codemirror_mode": {
    "name": "ipython",
    "version": 3
   },
   "file_extension": ".py",
   "mimetype": "text/x-python",
   "name": "python",
   "nbconvert_exporter": "python",
   "pygments_lexer": "ipython3",
   "version": "3.9.12"
  }
 },
 "nbformat": 4,
 "nbformat_minor": 5
}
